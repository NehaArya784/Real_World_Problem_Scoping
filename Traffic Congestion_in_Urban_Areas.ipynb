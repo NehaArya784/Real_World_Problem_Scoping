{
 "cells": [
  {
   "cell_type": "markdown",
   "metadata": {},
   "source": [
    "<div style=\"background-color: #add8e6; padding: 10px; height: 70px; border-radius: 15px;\">\n",
    "    <div style=\"font-family: 'Georgia', serif; font-size: 20px; padding: 10px; text-align: right; position: absolute; right: 20px;\">\n",
    "        Neha <br>\n",
    "        <span style=\"font-family: 'Arial', sans-serif;font-size: 12px; color: #0a0a0a;\">Tech Skills Trainee <b>| Real_World_Problem_Scoping|</b> <!--- Devashish Kumar | CodroidHub Private Limited | AI/ML Consultant --->\n",
    "    </div>\n",
    "</div>"
   ]
  },
  {
   "cell_type": "markdown",
   "metadata": {},
   "source": [
    "<div style=\"background-color: #002147; padding: 10px; text-align: center; color: white; font-size: 32px; font-family: 'Arial', sans-serif;\">\n",
    "     Real-World Problem: Traffic Congestion in Urban Areas <br>\n",
    "    <h3 style=\"text-align: center; color: white; font-size: 15px; font-family: 'Arial', sans-serif;\">Problem_1</h3>\n",
    "</div>"
   ]
  },
  {
   "cell_type": "markdown",
   "metadata": {},
   "source": [
    "<div style=\"background-color: lightgreen; color: black; padding: 4px;\">\n",
    "    <h3>  What is Problem Scoping?\n",
    "</h3> </div>"
   ]
  },
  {
   "cell_type": "markdown",
   "metadata": {},
   "source": [
    "Problem scoping is the process of clearly understanding, defining, and narrowing down a problem before trying to solve it. It helps us focus on what the problem is, who is affected, where it’s happening, and why it needs to be solved.\n",
    "\n"
   ]
  },
  {
   "cell_type": "markdown",
   "metadata": {},
   "source": [
    "\n",
    "<div style=\"background-color: lightgreen; color: black; padding: 4px;\">\n",
    "    <h3>  Key Points of Problem Scoping\n",
    "</h3> </div>\n",
    "1.Clarifies the real problem – Helps avoid assumptions and misdirection.\n",
    "\n",
    "2.Identifies stakeholders – Understand who is affected and involved.\n",
    "\n",
    "3.Focuses efforts – Narrows down broad issues into manageable goals.\n",
    "\n",
    "4.Saves time and resources – Prevents working on irrelevant or low-priority problems.\n",
    "\n",
    "5.Guides solution design – Leads to more accurate, efficient, and impactful solutions.\n",
    "\n",
    "6.Forms the foundation – It's the first and most crucial step in any project or problem-solving process."
   ]
  },
  {
   "cell_type": "markdown",
   "metadata": {},
   "source": [
    "<div style=\"background-color: lightblue; color: black; padding: 4px;\">\n",
    "    <h4> Let’s understand the concept of problem scoping more clearly by exploring a real-world scenario and analyzing it using the 4W’s framework (Who, What, Where, Why).\n",
    "</h4> </div>\n"
   ]
  },
  {
   "cell_type": "markdown",
   "metadata": {},
   "source": [
    "<!-- Link the Montserrat font -->\n",
    "<link href=\"https://fonts.googleapis.com/css2?family=Montserrat:wght@700&display=swap\" rel=\"stylesheet\">\n",
    "\n",
    "<!-- Main div with centered content and a flexible box size, no scroll bar -->\n",
    "<div style=\"background-color:rgb(51, 129, 247); min-height: 100px; width: 100%; display: flex; justify-content: center; align-items: center; position: relative; padding: 20px; box-sizing: border-box; font-family: 'Montserrat', sans-serif; font-weight: 700; font-size: 20px; border-radius: 15px;\">\n",
    "    <div style=\"position: absolute; top: 10px; right: 10px; padding: 5px 10px; font-size: 14px; color: rgba(0, 0, 0, 0.05); border-radius: 10px;\">Mohammad Idrees Bhat</div>\n",
    "    <!-- Fill the below text with question -->\n",
    "    <!-- Fill the below text with question -->\n",
    "    Scenario: Problem Scoping of Traffic Congestion in Bangalore: A Real-World Scenario\n",
    "    <!-- Fill the above text with question -->\n",
    "    <!-- Fill the above text with question -->\n",
    "\n",
    "</div>"
   ]
  },
  {
   "cell_type": "markdown",
   "metadata": {},
   "source": [
    "Ravi is a software engineer living in Bangalore. Every morning, he leaves home at 8:00 AM to reach his office, which is just 12 km away. Ideally, it should take him 30 minutes. But due to heavy traffic congestion, it often takes him over 1.5 hours to reach. The roads are jammed with private cars, buses, autos, and two-wheelers. Traffic signals don’t adapt to the real-time situation, and some intersections are blocked due to poor road planning.\n",
    "\n",
    "Meanwhile, an ambulance gets stuck in the same traffic, delaying emergency response. Delivery bikes are late, and school buses are caught in the chaos too.\n",
    "\n",
    "Despite infrastructure investments, the traffic problem remains a daily struggle for thousands of citizens like Ravi."
   ]
  },
  {
   "cell_type": "markdown",
   "metadata": {},
   "source": [
    "<div style=\"background-color: lightgreen; color: black; padding: 4px;\">\n",
    "    <h3>  Problem Scoping (4W’s)\n",
    "</h3> </div>"
   ]
  },
  {
   "cell_type": "markdown",
   "metadata": {},
   "source": [
    "<b>1. Who is facing the problem?</b><br>\n",
    "\n",
    "->Commuters like Ravi who travel daily for work and education.\n",
    "\n",
    "->Emergency services (ambulances, fire trucks) delayed due to traffic.\n",
    "\n",
    "->Logistics and delivery personnel whose work depends on timely transportation.\n",
    "\n",
    "->City traffic management authorities struggling to control peak hour congestion.\n",
    "\n"
   ]
  },
  {
   "cell_type": "markdown",
   "metadata": {},
   "source": []
  },
  {
   "cell_type": "markdown",
   "metadata": {},
   "source": [
    "<b> 2. What is the problem?</b><br>\n",
    "\n",
    "->Severe traffic congestion during peak hours in urban areas like Bangalore.\n",
    "\n",
    "->Inefficient signal systems that operate on fixed timings instead of adapting to real-time traffic.\n",
    "\n",
    "->Increased travel time, fuel wastage, stress, and pollution.\n",
    "\n",
    "->Blocked emergency routes, leading to delayed medical or safety assistance.\n",
    "\n"
   ]
  },
  {
   "cell_type": "markdown",
   "metadata": {},
   "source": []
  },
  {
   "cell_type": "markdown",
   "metadata": {},
   "source": [
    "<b>3. Where is the problem occurring?</b><br>\n",
    "\n",
    "->Major urban cities (e.g., Bangalore, Mumbai, Delhi) with high population density.\n",
    "\n",
    "->Specifically at intersections, highways, and bottleneck zones during office/school rush hours.\n",
    "\n"
   ]
  },
  {
   "cell_type": "markdown",
   "metadata": {},
   "source": [
    "<b>4. Why is it important to solve this problem?</b><br>\n",
    "\n",
    "->To reduce commute time and stress for daily travelers.\n",
    "\n",
    "->To improve emergency response times and potentially save lives.\n",
    "\n",
    "->To decrease fuel consumption and carbon emissions for a healthier environment.\n",
    "\n",
    "->To enable smart, data-driven city planning that supports sustainable urban growth.\n",
    "\n"
   ]
  },
  {
   "cell_type": "markdown",
   "metadata": {},
   "source": [
    "<div style=\"background-color: lightgreen; color: black; padding: 4px;\">\n",
    "    <h3>  Solution to the Urban Traffic Congestion Problem\n",
    "</h3> </div>"
   ]
  },
  {
   "cell_type": "markdown",
   "metadata": {},
   "source": [
    "<h2><b> Smart Traffic Management System using AI & IoT</h2></b>"
   ]
  },
  {
   "cell_type": "markdown",
   "metadata": {},
   "source": [
    "To reduce congestion, waiting time, pollution, and improve emergency services, we can implement a smart, technology-driven traffic management system."
   ]
  },
  {
   "cell_type": "markdown",
   "metadata": {},
   "source": [
    "\n",
    "<div style=\"background-color: lightgreen; color: black; padding: 4px;\">\n",
    "    <h3>  Key Components of the Solution:\n",
    "</h3> </div>"
   ]
  },
  {
   "cell_type": "markdown",
   "metadata": {},
   "source": [
    "<b>1. AI-Based Adaptive Traffic Signals</b>\n",
    "\n",
    "->Replace traditional fixed-timer signals with AI-powered adaptive signals.\n",
    "\n",
    "->These signals change based on real-time traffic flow, not just a pre-set time.\n",
    "\n",
    "->Helps clear high-traffic lanes faster and reduces waiting at empty intersections.\n",
    "\n",
    "<b>2. IoT Traffic Monitoring Devices</b>\n",
    "\n",
    "->Install IoT sensors and traffic cameras at major junctions.\n",
    "\n",
    "->Collect real-time data on vehicle count, speed, and congestion.\n",
    "\n",
    "->Data is sent to a central system to analyze patterns and optimize signal timing.\n",
    "\n",
    "<b>3. Real-Time Traffic Management Dashboard</b>\n",
    "\n",
    "->A centralized dashboard for traffic control authorities to monitor and make quick decisions.\n",
    "\n",
    "->Can detect accidents, bottlenecks, or roadblocks and respond instantly.\n",
    "\n",
    "<b>4. Mobile App for Commuters</b>\n",
    "\n",
    "->Provide commuters (like Ravi) with a mobile app that shows:\n",
    "\n",
    "->Live traffic updates\n",
    "\n",
    "->Alternate routes\n",
    "\n",
    "->Estimated travel time\n",
    "\n",
    "->Public transport options\n",
    "\n",
    "<b>5. Emergency Vehicle Priority System</b>\n",
    "\n",
    "->Use GPS and smart signals to give priority green lights to ambulances and fire trucks when approaching intersections.\n",
    "\n",
    "->This clears the path and reduces life-threatening delays.\n",
    "\n",
    "<b>6. Promote Public Transport & Carpooling</b>\n",
    "\n",
    "->Improve bus/train systems and create rewards or discounts for carpooling.\n",
    "\n",
    "->Fewer vehicles = less congestion.\n",
    "\n"
   ]
  },
  {
   "cell_type": "markdown",
   "metadata": {},
   "source": [
    "<div style=\"background-color: lightblue; color: white; padding: 10px; text-align: center;\">\n",
    "    <h1>_________________________________END________________________________\n",
    "<!--- Devashish Kumar | Tech Skills Trainer | CodroidHub Private Limited | AI/ML Consultant --->\n",
    "    </h1> </div>"
   ]
  },
  {
   "cell_type": "markdown",
   "metadata": {},
   "source": [
    "<div style=\"background-color: #002147; color: #fff; padding: 30px; text-align: center;\">\n",
    "    <h1>THANK YOU!\n",
    "        <!--- Devashish Kumar | Tech Skills Trainer | CodroidHub Private Limited | AI/ML Consultant --->\n",
    "</h1> </div>"
   ]
  },
  {
   "cell_type": "markdown",
   "metadata": {},
   "source": []
  }
 ],
 "metadata": {
  "kernelspec": {
   "display_name": "Python 3",
   "language": "python",
   "name": "python3"
  },
  "language_info": {
   "codemirror_mode": {
    "name": "ipython",
    "version": 3
   },
   "file_extension": ".py",
   "mimetype": "text/x-python",
   "name": "python",
   "nbconvert_exporter": "python",
   "pygments_lexer": "ipython3",
   "version": "3.11.4"
  }
 },
 "nbformat": 4,
 "nbformat_minor": 2
}
