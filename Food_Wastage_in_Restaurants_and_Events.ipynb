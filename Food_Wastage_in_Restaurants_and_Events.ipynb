{
 "cells": [
  {
   "cell_type": "markdown",
   "id": "08f8ca1e",
   "metadata": {},
   "source": [
    "<div style=\"background-color: #add8e6; padding: 10px; height: 70px; border-radius: 15px;\">\n",
    "    <div style=\"font-family: 'Georgia', serif; font-size: 20px; padding: 10px; text-align: right; position: absolute; right: 20px;\">\n",
    "        Neha <br>\n",
    "        <span style=\"font-family: 'Arial', sans-serif;font-size: 12px; color: #0a0a0a;\">Tech Skills Trainee <b>| Real_World_Problem_Scoping|</b> <!--- Devashish Kumar | CodroidHub Private Limited | AI/ML Consultant --->\n",
    "    </div>\n",
    "</div>"
   ]
  },
  {
   "cell_type": "markdown",
   "id": "0e3979fc",
   "metadata": {},
   "source": []
  },
  {
   "cell_type": "markdown",
   "id": "2e86aa30",
   "metadata": {},
   "source": [
    "<div style=\"background-color: #002147; padding: 10px; text-align: center; color: white; font-size: 32px; font-family: 'Arial', sans-serif;\">\n",
    "     Real-World Problem:From Plate to Waste<br>\n",
    "    <h3 style=\"text-align: center; color: white; font-size: 15px; font-family: 'Arial', sans-serif;\">Problem_2</h3>\n",
    "</div>"
   ]
  },
  {
   "cell_type": "markdown",
   "id": "649dc661",
   "metadata": {},
   "source": [
    "<div style=\"background-color: lightgreen; color: black; padding: 4px;\">\n",
    "    <h2>What is Problem Scoping? \n",
    "</h2> </div>"
   ]
  },
  {
   "cell_type": "markdown",
   "id": "2efb81ec",
   "metadata": {},
   "source": [
    "Problem scoping is the process of clearly understanding, defining, and narrowing down a problem before trying to solve it. It helps us focus on what the problem is, who is affected, where it’s happening, and why it needs to be solved.\n",
    "\n"
   ]
  },
  {
   "cell_type": "markdown",
   "id": "d39e208e",
   "metadata": {},
   "source": [
    "<div style=\"background-color: lightgreen; color: black; padding: 4px;\">\n",
    "    <h2>Key Points for this  Problem Scoping\n",
    "</h2> </div>\n"
   ]
  },
  {
   "cell_type": "markdown",
   "id": "8e7d5cbe",
   "metadata": {},
   "source": [
    "<b>1.Excess Preparation:</b>\n",
    "\n",
    "->Overestimating food quantity for guests leads to large amounts of leftovers.\n",
    "\n",
    "<b>2.Poor Planning:</b>\n",
    "\n",
    "->Lack of tracking systems or analytics to predict actual food consumption patterns.\n",
    "\n",
    "<b>3.Low Awareness:</b>\n",
    "\n",
    "->Event hosts and restaurant staff often don’t realize the scale of waste or its impact.\n",
    "\n",
    "<b>4.Lack of Food Redistribution Channels:</b>\n",
    "\n",
    "->Minimal collaboration with NGOs or food rescue organizations to donate leftovers.\n",
    "\n",
    "<b>5.Health & Legal Concerns:</b>\n",
    "\n",
    "->Fear of liability or spoilage discourages donations of unused food.\n",
    "\n",
    "<b>6.Environmental Impact:</b>\n",
    "\n",
    "->Wasted food rotting in landfills releases methane, a harmful greenhouse gas.\n",
    "\n",
    "<b>7.Missed Opportunity to Fight Hunger:</b>\n",
    "\n",
    "->While food is thrown away, many nearby communities go hungry daily.\n",
    "\n",
    "<b>8.Economic Loss:</b>\n",
    "\n",
    "->Restaurants and caterers lose money on uneaten food and its disposal.\n",
    "\n",
    "<b>9.Lack of Policy or Enforcement:</b>\n",
    "\n",
    "->No strong legal framework or incentives for food donation or zero-waste practices.\n",
    "\n",
    "<b>10.Cultural Habits:</b>\n",
    "\n",
    "->Buffet culture and social customs (e.g., over-serving guests) contribute to waste."
   ]
  },
  {
   "cell_type": "markdown",
   "id": "7066d54b",
   "metadata": {},
   "source": [
    "<!-- Link the Montserrat font -->\n",
    "<link href=\"https://fonts.googleapis.com/css2?family=Montserrat:wght@700&display=swap\" rel=\"stylesheet\">\n",
    "\n",
    "<!-- Main div with centered content and a flexible box size, no scroll bar -->\n",
    "<div style=\"background-color:rgb(51, 129, 247); min-height: 100px; width: 100%; display: flex; justify-content: center; align-items: center; position: relative; padding: 20px; box-sizing: border-box; font-family: 'Montserrat', sans-serif; font-weight: 700; font-size: 20px; border-radius: 15px;\">\n",
    "    <div style=\"position: absolute; top: 10px; right: 10px; padding: 5px 10px; font-size: 14px; color: rgba(0, 0, 0, 0.05); border-radius: 10px;\">Mohammad Idrees Bhat</div>\n",
    "    <!-- Fill the below text with question -->\n",
    "    <!-- Fill the below text with question -->\n",
    "    Scenario: Problem Scoping of Food Loss at Events and Eateries: A Real-World Scenario\n",
    "    <!-- Fill Food Wastage in Restaurants and Events the above text with question -->\n",
    "    <!-- Fill the above text with question -->\n",
    "\n",
    "</div>"
   ]
  },
  {
   "cell_type": "markdown",
   "id": "68d952e3",
   "metadata": {},
   "source": [
    "At large weddings, parties, and in buffet-style restaurants, a massive amount of untouched, perfectly edible food is thrown away every single day. Trays of rice, curries, bread, sweets, and snacks often go to waste because of overestimation, poor planning, or lack of proper storage and distribution channels. Meanwhile, in the same city or neighborhood, thousands of people—including homeless individuals and slum dwellers—go to bed hungry. Although food donation networks and NGOs exist, many businesses remain unaware or are hesitant due to legal and logistical concerns."
   ]
  },
  {
   "cell_type": "markdown",
   "id": "7290a69c",
   "metadata": {},
   "source": [
    "<div style=\"background-color: lightgreen; color: black; padding: 4px;\">\n",
    "    <h3>  Problem Scoping (4W’s)\n",
    "</h3> </div>"
   ]
  },
  {
   "cell_type": "markdown",
   "id": "908f0e5d",
   "metadata": {},
   "source": [
    "<b>1. WHO\n",
    "\n",
    "Who are the stakeholders involved in this problem?</b>\n",
    "\n",
    "->Restaurant owners, event planners, and caterers who prepare and serve the food.\n",
    "\n",
    "->Guests/customers who often take more than they can eat or leave food untouched.\n",
    "\n",
    "->Homeless individuals, poor families, and NGOs who could benefit from this excess food.\n",
    "\n",
    "->Waste collectors and municipal workers who deal with the dumped waste."
   ]
  },
  {
   "cell_type": "markdown",
   "id": "efc5c95b",
   "metadata": {},
   "source": [
    "<b>2. WHAT\n",
    "\n",
    "What is the problem?</b>\n",
    "\n",
    "->Large amounts of perfectly edible food are thrown away after events, in buffets, and at restaurants.\n",
    "\n",
    "->This not only contributes to environmental pollution, but also increases waste management costs and worsens the hunger crisis in nearby areas.\n",
    "\n"
   ]
  },
  {
   "cell_type": "markdown",
   "id": "969dc6a0",
   "metadata": {},
   "source": [
    "<b>3. WHERE\n",
    "\n",
    "Where does this problem occur?</b>\n",
    "\n",
    "->In urban areas and cities where large-scale food preparation happens regularly (e.g., restaurants, hotels, banquet halls, corporate canteens).\n",
    "\n",
    "->Especially during weddings, parties, festivals, and large corporate events.\n",
    "\n"
   ]
  },
  {
   "cell_type": "markdown",
   "id": "e833c7b9",
   "metadata": {},
   "source": [
    "<b>4. WHY\n",
    "\n",
    "Why is this a problem that needs to be solved?</b>\n",
    "\n",
    "->To reduce hunger and food insecurity among underprivileged communities.\n",
    "\n",
    "->To minimize food waste, which contributes to methane emissions and land pollution.\n",
    "\n",
    "->To promote a culture of sustainable consumption and social responsibility in urban society.\n",
    "\n",
    "->To save money and resources spent on food production, transport, and disposal."
   ]
  },
  {
   "cell_type": "markdown",
   "id": "d7192624",
   "metadata": {},
   "source": [
    "<div style=\"background-color: lightgreen; color: black; padding: 4px;\">\n",
    "    <h3>  Solution: Reducing Food Wastage in Restaurants and Events\n",
    "</h3> </div>"
   ]
  },
  {
   "cell_type": "markdown",
   "id": "0994fb35",
   "metadata": {},
   "source": [
    "<h2><b>Establish Food Donation Systems</h2></b>"
   ]
  },
  {
   "cell_type": "markdown",
   "id": "ce1ac579",
   "metadata": {},
   "source": [
    "->Partner with NGOs like Feeding India, Robin Hood Army, or Annakshetra.\n",
    "\n",
    "->Create a food pickup network that collects surplus food from restaurants and event venues.\n",
    "\n",
    "->Use insulated boxes and food-grade storage to ensure safety and hygiene.\n",
    "\n"
   ]
  },
  {
   "cell_type": "markdown",
   "id": "651c3388",
   "metadata": {},
   "source": [
    "<h2><b> Use Technology for Smart Food Management</h2></b>"
   ]
  },
  {
   "cell_type": "markdown",
   "id": "78f71ae1",
   "metadata": {},
   "source": [
    "->Develop or use existing apps/platforms where event organizers and restaurants can:\n",
    "\n",
    "-Log surplus food.\n",
    "\n",
    "-Schedule pickups.\n",
    "\n",
    "-Track donations.\n",
    "\n",
    "->AI-based tools can predict guest turnout to avoid over-preparation."
   ]
  },
  {
   "cell_type": "markdown",
   "id": "b20e2cdf",
   "metadata": {},
   "source": [
    "<h2><b>Awareness Campaigns and Training</h2></b>"
   ]
  },
  {
   "cell_type": "markdown",
   "id": "4dfcf02a",
   "metadata": {},
   "source": [
    "->Conduct training sessions for chefs, servers, and event organizers on portion control and sustainable practices.\n",
    "\n",
    "->Educate the public on the impact of food waste and responsible consumption.\n",
    "\n"
   ]
  },
  {
   "cell_type": "markdown",
   "id": "7deeba65",
   "metadata": {},
   "source": [
    "<h2><b>Legal & Policy Support</h2></b>"
   ]
  },
  {
   "cell_type": "markdown",
   "id": "da7ad101",
   "metadata": {},
   "source": [
    "->Encourage government policies that:\n",
    "\n",
    "-Provide tax benefits for food donations.\n",
    "\n",
    "-Offer legal protection to donors (similar to the “Good Samaritan Law”).\n",
    "\n",
    "-Mandate large event venues to submit food waste reports."
   ]
  },
  {
   "cell_type": "markdown",
   "id": "15bd16b7",
   "metadata": {},
   "source": [
    "<h2><b>Composting & Waste Segregation</h2></b>"
   ]
  },
  {
   "cell_type": "markdown",
   "id": "f2ef6669",
   "metadata": {},
   "source": [
    "->install organic waste composting machines at large hotels or event venues.\n",
    "\n",
    "->Segregate food waste at the source for proper recycling or composting.\n",
    "\n"
   ]
  },
  {
   "cell_type": "markdown",
   "id": "3432b4f8",
   "metadata": {},
   "source": [
    "<h2><b>Example:</h2></b>\n",
    "\n",
    "A 5-star hotel in Mumbai partnered with a local NGO to donate untouched buffet food daily. They use an app to log the quantity, and the NGO collects and redistributes it within 2 hours, feeding over 100 people every day."
   ]
  },
  {
   "cell_type": "markdown",
   "id": "5c5d2824",
   "metadata": {},
   "source": [
    "<div class=\"alert alert-block alert-warning\"  padding: 10px; text-align: center;\">\n",
    "    <font size=\"4\"> <b>Impact If Implemented</b></font>\n",
    "</div>"
   ]
  },
  {
   "cell_type": "markdown",
   "id": "292184b1",
   "metadata": {},
   "source": [
    "->Reduction in urban hunger.\n",
    "\n",
    "->Cleaner environment with less landfill waste.\n",
    "\n",
    "->Lower food costs for restaurants due to better planning.\n",
    "\n",
    "->Enhanced brand image for businesses that follow sustainable practices.\n",
    "\n"
   ]
  },
  {
   "cell_type": "markdown",
   "id": "8b91db82",
   "metadata": {},
   "source": [
    "<div style=\"background-color: lightblue; color: white; padding: 10px; text-align: center;\">\n",
    "    <h1>_________________________________END________________________________\n",
    "<!--- Devashish Kumar | Tech Skills Trainer | CodroidHub Private Limited | AI/ML Consultant --->\n",
    "    </h1> </div>"
   ]
  },
  {
   "cell_type": "markdown",
   "id": "1c2b077c",
   "metadata": {},
   "source": [
    "<div style=\"background-color: #002147; color: #fff; padding: 30px; text-align: center;\">\n",
    "    <h1>THANK YOU!\n",
    "        <!--- Devashish Kumar | Tech Skills Trainer | CodroidHub Private Limited | AI/ML Consultant --->\n",
    "</h1> </div>"
   ]
  },
  {
   "cell_type": "markdown",
   "id": "ab8019a8",
   "metadata": {},
   "source": [
    "<h2 style=\"background-color: #ffe4e1; color: #2f4f4f; padding: 10px; border-radius: 10px; width: 350px; text-align: center; float: right; margin: 20px 0;\">\n",
    "    Devashish Kumar<br>\n",
    "    <span style=\"font-size: 12px; color: #696969;\">\n",
    "       Tech Skills Trainer | CodroidHub Private Limited | AI/ML Consultant \n",
    "    </span>\n",
    "</h2>"
   ]
  },
  {
   "cell_type": "markdown",
   "id": "b773afbd",
   "metadata": {},
   "source": []
  }
 ],
 "metadata": {
  "language_info": {
   "name": "python"
  }
 },
 "nbformat": 4,
 "nbformat_minor": 5
}
