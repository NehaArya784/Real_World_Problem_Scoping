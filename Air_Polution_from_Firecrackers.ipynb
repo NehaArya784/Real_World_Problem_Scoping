{
 "cells": [
  {
   "cell_type": "markdown",
   "id": "88965363",
   "metadata": {},
   "source": [
    "<div style=\"background-color: #add8e6; padding: 10px; height: 70px; border-radius: 15px;\">\n",
    "    <div style=\"font-family: 'Georgia', serif; font-size: 20px; padding: 10px; text-align: right; position: absolute; right: 20px;\">\n",
    "        Neha <br>\n",
    "        <span style=\"font-family: 'Arial', sans-serif;font-size: 12px; color: #0a0a0a;\">Tech Skills Trainee <b>| Real_World_Problem_Scoping|</b> <!--- Devashish Kumar | CodroidHub Private Limited | AI/ML Consultant --->\n",
    "    </div>\n",
    "</div>"
   ]
  },
  {
   "cell_type": "markdown",
   "id": "95690593",
   "metadata": {},
   "source": []
  },
  {
   "cell_type": "markdown",
   "id": "e7d2c08e",
   "metadata": {},
   "source": [
    "<div style=\"background-color: #002147; padding: 10px; text-align: center; color: white; font-size: 32px; font-family: 'Arial', sans-serif;\">\n",
    "     Real-World Problem:Air Pollution from Firecrackers During Festivals <br>\n",
    "    <h3 style=\"text-align: center; color: white; font-size: 15px; font-family: 'Arial', sans-serif;\">Problem_5</h3>\n",
    "</div>"
   ]
  },
  {
   "cell_type": "markdown",
   "id": "8ad65a14",
   "metadata": {},
   "source": [
    "<div style=\"background-color: lightgreen; color: black; padding: 4px;\">\n",
    "    <h2>  What is Problem Scoping?\n",
    "</h2> </div>"
   ]
  },
  {
   "cell_type": "markdown",
   "id": "b819f231",
   "metadata": {},
   "source": [
    "Problem scoping is the process of clearly understanding, defining, and narrowing down a problem before trying to solve it. It helps us focus on what the problem is, who is affected, where it’s happening, and why it needs to be solved.\n",
    "\n"
   ]
  },
  {
   "cell_type": "markdown",
   "id": "a9a4e304",
   "metadata": {},
   "source": [
    "<div style=\"background-color: lightgreen; color: black; padding: 4px;\">\n",
    "    <h2>Key Points for this  Problem Scoping\n",
    "</h2> </div>"
   ]
  },
  {
   "cell_type": "markdown",
   "id": "54448176",
   "metadata": {},
   "source": [
    "<b>What is the problem?</b>\n",
    "\n",
    "->Significant spike in air pollution levels due to firecracker use during festivals, especially Diwali.\n",
    "\n",
    "<b>Why is it important?</b>\n",
    "\n",
    "->It leads to severe health risks (especially for children, elderly, and asthma patients), reduced visibility, and environmental degradation."
   ]
  },
  {
   "cell_type": "markdown",
   "id": "477ad31c",
   "metadata": {},
   "source": [
    "<b>Objective / Goal</b>\n",
    "\n",
    "->To analyze and quantify the impact of firecrackers on air quality.\n",
    "\n",
    "->To build predictive models for pollution levels during festival periods.\n",
    "\n",
    "->To provide data-driven recommendations to reduce pollution (e.g., awareness campaigns, firecracker alternatives).\n",
    "\n",
    "->To aid policymakers in enforcing regulations or curfews on firecracker usage.\n",
    "\n"
   ]
  },
  {
   "cell_type": "markdown",
   "id": "3636e8f1",
   "metadata": {},
   "source": [
    "<div style=\"background-color: lightblue; color: black; padding: 4px;\">\n",
    "    <h4> Let’s understand the concept of problem scoping more clearly by exploring a real-world scenario and analyzing it using the 4W’s framework (Who, What, Where, Why).\n",
    "</h4> </div>\n"
   ]
  },
  {
   "cell_type": "markdown",
   "id": "1f8c454b",
   "metadata": {},
   "source": [
    "<!-- Link the Montserrat font -->\n",
    "<link href=\"https://fonts.googleapis.com/css2?family=Montserrat:wght@700&display=swap\" rel=\"stylesheet\">\n",
    "\n",
    "<!-- Main div with centered content and a flexible box size, no scroll bar -->\n",
    "<div style=\"background-color:rgb(51, 129, 247); min-height: 100px; width: 100%; display: flex; justify-content: center; align-items: center; position: relative; padding: 20px; box-sizing: border-box; font-family: 'Montserrat', sans-serif; font-weight: 700; font-size: 20px; border-radius: 15px;\">\n",
    "    <div style=\"position: absolute; top: 10px; right: 10px; padding: 5px 10px; font-size: 14px; color: rgba(0, 0, 0, 0.05); border-radius: 10px;\">Mohammad Idrees Bhat</div>\n",
    "    <!-- Fill the below text with question -->\n",
    "    <!-- Fill the below text with question -->\n",
    "    Scenario: Problem Scoping of Post-Diwali Air Emergency in Delhi : A Real-World Scenario\n",
    "    <!-- Fill the above text with question -->\n",
    "    <!-- Fill the above text with question -->\n",
    "\n",
    "</div>"
   ]
  },
  {
   "cell_type": "markdown",
   "id": "6d849ebe",
   "metadata": {},
   "source": [
    "Every year after Diwali, residents of Delhi wake up to a thick blanket of smog. Despite government regulations and public awareness campaigns, many people still burst traditional firecrackers throughout the night. By the next morning, the Air Quality Index (AQI) skyrockets to hazardous levels—often exceeding 500+, which is far above the safe limit.\n",
    "\n",
    "\n",
    "In November 2023, the AQI in several parts of Delhi touched severe levels, forcing the government to:\n",
    "\n",
    "->Shut down schools for several days,\n",
    "\n",
    "->Halt construction activities,\n",
    "\n",
    "->Advise citizens to stay indoors,\n",
    "\n",
    "->Set up emergency health camps for respiratory distress.\n",
    "\n",
    "Hospitals saw a 30% rise in patients complaining of breathing problems, especially among children and elderly people with pre-existing conditions.\n",
    "\n",
    "The pollution wasn't caused by firecrackers alone—but they acted as a major catalyst, especially when combined with low wind speed, cooler temperatures, and stubble burning in neighboring states.\n",
    "\n",
    "The situation sparked debates on:\n",
    "\n",
    "->Whether firecracker bans should be stricter or more strictly enforced,\n",
    "\n",
    "->How technology could predict such spikes earlier,\n",
    "\n",
    "->Whether green alternatives or celebrations without crackers could be encouraged more effectively.\n",
    "\n",
    "This scenario highlights the need for better forecasting, stricter regulations, public cooperation, and data-driven decisions to minimize the impact of air pollution during festive seasons.\n",
    "\n"
   ]
  },
  {
   "cell_type": "markdown",
   "id": "cf5ba90f",
   "metadata": {},
   "source": [
    "<div style=\"background-color: lightgreen; color: black; padding: 4px;\">\n",
    "    <h3>  Problem Scoping (4W’s)\n",
    "</h3> </div>"
   ]
  },
  {
   "cell_type": "markdown",
   "id": "8068cd89",
   "metadata": {},
   "source": [
    "<b>What is the problem?</b>\n",
    "\n",
    "There is a drastic increase in air pollution levels due to the widespread use of firecrackers during festivals, especially Diwali. This leads to a spike in the Air Quality Index (AQI), often reaching hazardous levels, which affects public health, visibility, and overall environmental quality.\n",
    "\n"
   ]
  },
  {
   "cell_type": "markdown",
   "id": "4b48a742",
   "metadata": {},
   "source": [
    "<b>Why is it a problem?</b>\n",
    "\n",
    "Because:\n",
    "\n",
    "The smoke and particulate matter (PM2.5 and PM10) released by firecrackers severely affects respiratory health, especially among children, elderly people, and those with asthma or lung diseases.\n",
    "\n",
    "It overburdens hospitals, increases emergency room visits, and causes public panic.\n",
    "\n",
    "It contributes to climate change and long-term environmental degradation.\n",
    "\n",
    "Despite bans or regulations, non-compliance and cultural habits make enforcement difficult.\n",
    "\n"
   ]
  },
  {
   "cell_type": "markdown",
   "id": "4a437d3a",
   "metadata": {},
   "source": [
    "<b>Where is it happening?</b>\n",
    "\n",
    "This is a major issue in urban and densely populated areas of India, especially Delhi-NCR, Mumbai, Kolkata, and Bengaluru, during the Diwali season. Delhi is one of the worst-hit cities due to its geographical location and already high pollution from traffic, construction, and stubble burning.\n",
    "\n"
   ]
  },
  {
   "cell_type": "markdown",
   "id": "a9916c3a",
   "metadata": {},
   "source": [
    "<b>Who are affected or involved?</b>\n",
    "\n",
    "->General Public: Health issues, reduced quality of life.\n",
    "\n",
    "->Children & Elderly: Most vulnerable to respiratory and heart problems.\n",
    "\n",
    "->Healthcare Systems: See spikes in respiratory cases and emergency admissions.\n",
    "\n",
    "->Government & Pollution Control Boards: Responsible for regulation, monitoring, and policy-making.\n",
    "\n",
    "->Law Enforcement: Tasked with enforcing firecracker bans or curfews.\n",
    "\n",
    "->Firecracker Manufacturers: Economic stakeholders impacted by regulations.\n",
    "\n",
    "->Environmentalists & NGOs: Advocating for sustainable alternatives.\n",
    "\n"
   ]
  },
  {
   "cell_type": "markdown",
   "id": "eb1dbc7a",
   "metadata": {},
   "source": [
    "<div style=\"background-color: lightgreen; color: black; padding: 4px;\">\n",
    "    <h3> Solutions to Firecracker-Caused Air Pollution\n",
    "</h3> </div>"
   ]
  },
  {
   "cell_type": "markdown",
   "id": "8b761cae",
   "metadata": {},
   "source": [
    "<h2><b>Short-Term Solutions</b></h2>\n",
    "\n",
    "<b>1.Strict Enforcement of Firecracker Bans</b>\n",
    "\n",
    "->Impose and enforce time restrictions and zonal bans.\n",
    "\n",
    "->Hefty fines for violation to discourage illegal usage.\n",
    "\n",
    "->Deploy police and drones in high-risk areas for monitoring.\n",
    "\n",
    "<b>2.Promotion of Green Crackers</b>\n",
    "\n",
    "->Encourage people to buy eco-friendly crackers with 30% less emissions.\n",
    "\n",
    "->Make green crackers affordable and available in the market.\n",
    "\n",
    "->Issue a special green cracker certification to identify them easily.\n",
    "\n",
    "<b>3.Public Awareness Campaigns</b>\n",
    "\n",
    "->Use social media, schools, and influencers to promote pollution-free celebrations.\n",
    "\n",
    "->Share real stories of health impacts to create emotional awareness.\n",
    "\n",
    "->Display real-time AQI data in public spaces to show the effects.\n",
    "\n",
    "<b>4.Controlled Community Celebrations</b>\n",
    "\n",
    "->Organize public laser shows or firework alternatives managed by authorities.\n",
    "\n",
    "->Celebrate in designated open spaces to reduce pollution density in residential zones.\n",
    "\n",
    "<b>5.Real-Time AQI Alerts</b>\n",
    "\n",
    "->Use mobile apps and SMS alerts to inform citizens of dangerous pollution levels.\n",
    "\n",
    "->Encourage mask use or staying indoors on high-risk days.\n",
    "\n"
   ]
  },
  {
   "cell_type": "markdown",
   "id": "88a0dda7",
   "metadata": {},
   "source": [
    "<h2><b>Long-Term Solutions</h2></b>\n",
    "\n",
    "<b>1.Policy Reforms</b>\n",
    "\n",
    "->Gradually phase out traditional firecrackers with stricter environmental policies.\n",
    "\n",
    "->Provide incentives to manufacturers to shift to green alternatives.\n",
    "\n",
    "<b>2.Sustainable Alternatives to Firecrackers</b>\n",
    "\n",
    "->Promote eco-friendly celebrations like sky lanterns, drone shows, light projections, etc.\n",
    "\n",
    "->Encourage schools to run contests for \"green Diwali ideas\".\n",
    "\n",
    "<b>3.Integration of AI & IoT for Forecasting</b>\n",
    "\n",
    "->Develop AI-based models that can predict AQI spikes during festival seasons.\n",
    "\n",
    "->Use IoT sensors in urban areas to monitor real-time pollution levels and provide alerts.\n",
    "\n",
    "<b>4.Involving Local Communities & Schools</b>\n",
    "\n",
    "->Make children the face of green campaigns—they influence household decisions.\n",
    "\n",
    "->Involve Resident Welfare Associations (RWAs) to encourage firecracker-free communities.\n",
    "\n",
    "<b>5.Tree Plantation & Urban Greening</b>\n",
    "\n",
    "->Promote urban greening campaigns post-festival as compensation.\n",
    "\n",
    "->Use CSR initiatives from local businesses to sponsor trees, air purifiers, or eco drives.\n",
    "\n"
   ]
  },
  {
   "cell_type": "markdown",
   "id": "5a63e1f1",
   "metadata": {},
   "source": [
    "<div style=\"background-color: lightgreen; color: black; padding: 4px;\">\n",
    "    <h3> Key Components of the Solution:\n",
    "</h3> </div>\n"
   ]
  },
  {
   "cell_type": "markdown",
   "id": "ac416c7f",
   "metadata": {},
   "source": [
    "<h2><b>1. Objective of the Solution</h2>\n",
    "What is the solution trying to achieve?</b>\n",
    "\n",
    "->Reduce air pollution levels during festival seasons\n",
    "\n",
    "->Promote eco-friendly celebrations\n",
    "\n",
    "->Minimize health risks caused by air quality deterioration\n",
    "\n",
    "->Support sustainable policymaking with data\n",
    "\n",
    "<h2><b>2. Approach / Strategy</h2>\n",
    "What is the overall method or strategy?</b>\n",
    "\n",
    "->Combination of regulatory, technological, educational, and community-driven approaches:\n",
    "\n",
    "->Enforcement of regulations\n",
    "\n",
    "->Promotion of alternatives (green crackers, laser shows)\n",
    "\n",
    "->Real-time pollution tracking & prediction\n",
    "\n",
    "->Public engagement & awareness\n",
    "\n",
    "<h2><b>3. Technological Components</h2>\n",
    "What tools or technologies will be used?</b>\n",
    "\n",
    "->IoT sensors for real-time AQI monitoring\n",
    "\n",
    "->AI/ML models to predict pollution spikes\n",
    "\n",
    "->Mobile app/website for AQI alerts and awareness\n",
    "\n",
    "->GIS/satellite data for pollution visualization\n",
    "\n",
    "->Data dashboards for government use\n",
    "\n",
    "<h2><b>4. Policy & Regulation Support</h2>\n",
    "What legal or regulatory actions are part of the solution?</b>\n",
    "\n",
    "->Enforce time restrictions and zonal firecracker bans\n",
    "\n",
    "->Promote and subsidize green crackers\n",
    "\n",
    "->Impose penalties for violations\n",
    "\n",
    "->Define safe zones for community celebrations\n",
    "\n",
    "<h2><b>5. Public Awareness & Behavioral Change</h2>\n",
    "How will people be encouraged to participate?</b>\n",
    "\n",
    "->Campaigns in schools, social media, and local communities\n",
    "\n",
    "->Use visual storytelling (before-and-after AQI data)\n",
    "\n",
    "<h2><b>6. Community Involvement</h2>\n",
    "Who at the ground level will help make this work?</b>\n",
    "\n",
    "->RWAs (Resident Welfare Associations)\n",
    "\n",
    "->Local NGOs and environmental groups\n",
    "\n",
    "->Schools and colleges\n",
    "\n",
    "->Volunteers and youth groups\n",
    "\n",
    "<h2><b>7. Monitoring & Evaluation</h2>\n",
    "How will the impact of the solution be tracked?</b>\n",
    "\n",
    "->Track AQI before, during, and after festivals\n",
    "\n",
    "->Compare hospital data on respiratory cases\n",
    "\n",
    "->Collect public feedback via surveys\n",
    "\n",
    "->Monitor adoption rates of green alternatives\n",
    "\n",
    "<h2><b>8. Scalability & Sustainability</h2>\n",
    "Can the solution grow and last long-term?</b>\n",
    "\n",
    "->Start with pilot cities (e.g., Delhi NCR) and scale based on results\n",
    "\n",
    "->Integrate with national pollution control programs\n",
    "\n",
    "->Ensure public-private partnerships for continued funding and support\n",
    "\n",
    "->Encourage year-round environmental education\n",
    "\n"
   ]
  },
  {
   "cell_type": "markdown",
   "id": "19d7ac46",
   "metadata": {},
   "source": [
    "<div class=\"alert alert-block alert-warning\"  padding: 10px; text-align: center;\">\n",
    "    <font size=\"4\"> <b>Goal of These Solutions</b></font>\n",
    "</div>\n",
    "Reduce short-term spikes in pollution after festivals.\n",
    "\n",
    "Improve public health outcomes.\n",
    "\n",
    "Create a cultural shift toward eco-conscious celebrations."
   ]
  },
  {
   "cell_type": "markdown",
   "id": "96689a7a",
   "metadata": {},
   "source": [
    "<div style=\"background-color: lightblue; color: white; padding: 10px; text-align: center;\">\n",
    "    <h1>_________________________________END________________________________\n",
    "<!--- Devashish Kumar | Tech Skills Trainer | CodroidHub Private Limited | AI/ML Consultant --->\n",
    "    </h1> </div>"
   ]
  },
  {
   "cell_type": "markdown",
   "id": "ee2e4859",
   "metadata": {},
   "source": [
    "<div style=\"background-color: #002147; color: #fff; padding: 30px; text-align: center;\">\n",
    "    <h1>THANK YOU!\n",
    "        <!--- Devashish Kumar | Tech Skills Trainer | CodroidHub Private Limited | AI/ML Consultant --->\n",
    "</h1> </div>"
   ]
  },
  {
   "cell_type": "markdown",
   "id": "ce537942",
   "metadata": {},
   "source": []
  }
 ],
 "metadata": {
  "language_info": {
   "name": "python"
  }
 },
 "nbformat": 4,
 "nbformat_minor": 5
}
