{
 "cells": [
  {
   "cell_type": "markdown",
   "id": "cb3e3ce3",
   "metadata": {},
   "source": [
    "<div style=\"background-color: #add8e6; padding: 10px; height: 70px; border-radius: 15px;\">\n",
    "    <div style=\"font-family: 'Georgia', serif; font-size: 20px; padding: 10px; text-align: right; position: absolute; right: 20px;\">\n",
    "        Neha <br>\n",
    "        <span style=\"font-family: 'Arial', sans-serif;font-size: 12px; color: #0a0a0a;\">Tech Skills Trainee <b>| Real_World_Problem_Scoping|</b> <!--- Devashish Kumar | CodroidHub Private Limited | AI/ML Consultant --->\n",
    "    </div>\n",
    "</div>"
   ]
  },
  {
   "cell_type": "markdown",
   "id": "51f3fc75",
   "metadata": {},
   "source": [
    "<div style=\"background-color: #002147; padding: 10px; text-align: center; color: white; font-size: 32px; font-family: 'Arial', sans-serif;\">\n",
    "     Real-World Problem:Low Customer Retention In Online Stores<br>\n",
    "    <h3 style=\"text-align: center; color: white; font-size: 15px; font-family: 'Arial', sans-serif;\">Problem_9</h3>\n",
    "</div>"
   ]
  },
  {
   "cell_type": "markdown",
   "id": "806711b8",
   "metadata": {},
   "source": [
    "<div style=\"background-color: lightgreen; color: black; padding: 4px;\">\n",
    "    <h2>  What is Problem Scoping?\n",
    "</h2> </div>"
   ]
  },
  {
   "cell_type": "markdown",
   "id": "c8021ade",
   "metadata": {},
   "source": [
    "Problem scoping is the process of clearly understanding, defining, and narrowing down a problem before trying to solve it. It helps us focus on what the problem is, who is affected, where it’s happening, and why it needs to be solved.\n",
    "\n"
   ]
  },
  {
   "cell_type": "markdown",
   "id": "03e37481",
   "metadata": {},
   "source": [
    "<div style=\"background-color: lightblue; color: black; padding: 4px;\">\n",
    "    <h4> Let’s understand the concept of problem scoping more clearly by exploring a real-world scenario and analyzing it using the 4W’s framework (Who, What, Where, Why).\n",
    "</h4> </div>\n"
   ]
  },
  {
   "cell_type": "markdown",
   "id": "caccf006",
   "metadata": {},
   "source": [
    "<!-- Link the Montserrat font -->\n",
    "<link href=\"https://fonts.googleapis.com/css2?family=Montserrat:wght@700&display=swap\" rel=\"stylesheet\">\n",
    "\n",
    "<!-- Main div with centered content and a flexible box size, no scroll bar -->\n",
    "<div style=\"background-color:rgb(51, 129, 247); min-height: 100px; width: 100%; display: flex; justify-content: center; align-items: center; position: relative; padding: 20px; box-sizing: border-box; font-family: 'Montserrat', sans-serif; font-weight: 700; font-size: 20px; border-radius: 15px;\">\n",
    "    <div style=\"position: absolute; top: 10px; right: 10px; padding: 5px 10px; font-size: 14px; color: rgba(0, 0, 0, 0.05); border-radius: 10px;\">Mohammad Idrees Bhat</div>\n",
    "    <!-- Fill the below text with question -->\n",
    "    <!-- Fill the below text with question -->\n",
    "    Scenario:Low Customer Retention in an Online Store\n",
    "    <!-- Fill the above text with question -->\n",
    "    <!-- Fill the above text with question -->\n",
    "\n",
    "</div>"
   ]
  },
  {
   "cell_type": "markdown",
   "id": "b40651f6",
   "metadata": {},
   "source": [
    "<b>Company:</b>\n",
    "\n",
    "An online clothing retailer called TrendThreadz has been operating for two years. They see a steady flow of new customers every month due to social media ads and influencer partnerships. However, data shows that only 12% of customers return for a second purchase, far below the industry average of 30-40%."
   ]
  },
  {
   "cell_type": "markdown",
   "id": "1fcabb11",
   "metadata": {},
   "source": [
    "<b>Observation:</b>\n",
    "\n",
    "The marketing team is spending a significant portion of their budget on acquiring new customers, but repeat purchases are low. This is raising concerns about long-term sustainability and profitability.\n",
    "\n"
   ]
  },
  {
   "cell_type": "markdown",
   "id": "78f11a34",
   "metadata": {},
   "source": [
    "<b>Trigger:</b>\n",
    "\n",
    "The CFO points out that customer acquisition costs are rising, and the ROI on ads is shrinking due to low customer lifetime value (CLV). The leadership team calls for an investigation into the retention issue."
   ]
  },
  {
   "cell_type": "markdown",
   "id": "95e41458",
   "metadata": {},
   "source": [
    "<div style=\"background-color: lightgreen; color: black; padding: 4px;\">\n",
    "    <h3>  Problem Scoping (4W’s)\n",
    "</h3> </div>\n"
   ]
  },
  {
   "cell_type": "markdown",
   "id": "928182a0",
   "metadata": {},
   "source": [
    "<b>1. What is the problem?</b>\n",
    "\n",
    "Low Customer Retention – A significant number of customers are not returning after their first purchase. Despite successful acquisition efforts, the online store is experiencing a low repeat purchase rate, leading to reduced customer lifetime value and poor return on marketing investments.\n",
    "\n"
   ]
  },
  {
   "cell_type": "markdown",
   "id": "cba3c6e6",
   "metadata": {},
   "source": [
    "<b>2. Why is it important?</b>\n",
    "\n",
    "->Retaining existing customers is more cost-effective than acquiring new ones.\n",
    "\n",
    "->Low retention means higher marketing costs and lower profitability.\n",
    "\n",
    "->Long-term growth and brand loyalty are difficult to achieve without repeat customers.\n",
    "\n",
    "->It affects customer lifetime value (CLV), sustainability, and business scalability.\n",
    "\n"
   ]
  },
  {
   "cell_type": "markdown",
   "id": "7d5e61f9",
   "metadata": {},
   "source": [
    "<b>3. Who does it affect?</b>\n",
    "\n",
    "->Business owners and executives, concerned with growth and profitability.\n",
    "\n",
    "->Marketing teams, who struggle with ineffective ROI on campaigns.\n",
    "\n",
    "->Customer experience teams, responsible for user satisfaction and engagement.\n",
    "\n",
    "->Customers themselves, who may face issues that deter them from returning.\n",
    "\n"
   ]
  },
  {
   "cell_type": "markdown",
   "id": "6e3107c8",
   "metadata": {},
   "source": [
    "<b>4. Where does the problem occur?</b>\n",
    "\n",
    "->Across the customer journey on the online store, including:\n",
    "\n",
    "-Post-purchase experience (e.g., shipping, customer support)\n",
    "\n",
    "-Website/app interface and usability\n",
    "\n",
    "-Lack of personalized engagement (emails, recommendations)\n",
    "\n",
    "-Checkout experience or return policies\n",
    "\n",
    "-Loyalty program absence or ineffectiveness"
   ]
  },
  {
   "cell_type": "markdown",
   "id": "0c085126",
   "metadata": {},
   "source": [
    "<div style=\"background-color: lightgreen; color: black; padding: 4px;\">\n",
    "    <h3> Solutions to Improve Customer Retention\n",
    "\n",
    "</h3> </div>"
   ]
  },
  {
   "cell_type": "markdown",
   "id": "983799f3",
   "metadata": {},
   "source": [
    "<b>1. Enhance Post-Purchase Experience</b>\n",
    "\n",
    "->Send order confirmation and shipping updates promptly.\n",
    "\n",
    "->Provide easy tracking and transparent return/refund policies.\n",
    "\n",
    "->Ask for feedback and reviews to make customers feel heard.\n",
    "\n"
   ]
  },
  {
   "cell_type": "markdown",
   "id": "a66b1f0b",
   "metadata": {},
   "source": [
    "<b>2. Loyalty & Rewards Program</b>\n",
    "\n",
    "->Implement a points-based reward system (e.g., 1 point per $1 spent).\n",
    "\n",
    "->Offer exclusive deals or early access to returning customers.\n",
    "\n",
    "->Send rewards on birthdays, anniversaries, or special occasions.\n",
    "\n"
   ]
  },
  {
   "cell_type": "markdown",
   "id": "64617c84",
   "metadata": {},
   "source": [
    "<b>3. Personalized Email & Retargeting Campaigns</b>\n",
    "\n",
    "<b>Use customer data to recommend products based on past purchases.</b>\n",
    "\n",
    "<b>Set up automated win-back emails (e.g., “We miss you – here’s 15% off”).</b>\n",
    "\n",
    "<b>Remind customers of items in their cart or wishlist.</b>\n",
    "\n"
   ]
  },
  {
   "cell_type": "markdown",
   "id": "6c5403cc",
   "metadata": {},
   "source": [
    "<b>4. Analyze and Act on Customer Feedback</b>\n",
    "\n",
    "->Collect insights from reviews, surveys, and customer support interactions.\n",
    "\n",
    "->Identify and fix common issues (e.g., slow delivery, poor sizing accuracy).\n",
    "\n",
    "->Reward customers who provide helpful feedback.\n",
    "\n"
   ]
  },
  {
   "cell_type": "markdown",
   "id": "e8897bd4",
   "metadata": {},
   "source": [
    "<b>5. Leverage AI for Personalization</b>\n",
    "\n",
    "->Use machine learning to recommend products tailored to customer preferences.\n",
    "\n",
    "->Customize homepage and marketing banners based on user behavior."
   ]
  },
  {
   "cell_type": "markdown",
   "id": "67993680",
   "metadata": {},
   "source": [
    "<b>6. Improve Website & App Experience</b>\n",
    "\n",
    "->Optimize for mobile – fast loading, simple checkout, responsive design.\n",
    "\n",
    "->Make account creation easy or optional.\n",
    "\n",
    "->Offer guest checkout with the option to create an account post-purchase.\n",
    "\n"
   ]
  },
  {
   "cell_type": "markdown",
   "id": "267f0449",
   "metadata": {},
   "source": [
    "<b>7. Fast and Reliable Delivery</b>\n",
    "\n",
    "->Partner with reliable logistics services.\n",
    "\n",
    "->Offer delivery tracking and estimated delivery windows.\n",
    "\n"
   ]
  },
  {
   "cell_type": "markdown",
   "id": "dbe5a22d",
   "metadata": {},
   "source": [
    "<b>8. Build a Community or Brand Relationship</b>\n",
    "\n",
    "->Engage customers through social media, blogs, or forums.\n",
    "\n",
    "->Share customer stories or user-generated content.\n",
    "\n",
    "->Make them feel part of the brand journey, not just a transaction."
   ]
  },
  {
   "cell_type": "markdown",
   "id": "8bb1bdb4",
   "metadata": {},
   "source": [
    "<div class=\"alert alert-block alert-warning\"  padding: 10px; text-align: center;\">\n",
    "    <font size=\"4\"> <b>Main Conclusion</b></font>\n",
    "</div>"
   ]
  },
  {
   "cell_type": "markdown",
   "id": "dcf8a2f7",
   "metadata": {},
   "source": [
    "Low customer retention in online stores is a critical issue that directly impacts profitability, growth, and long-term sustainability. While attracting new customers is important, retaining existing customers is more cost-effective and valuable in the long run.\n",
    "\n",
    "To address this, businesses must shift focus from just acquisition to creating meaningful, personalized, and engaging experiences throughout the customer journey — from first purchase to repeat engagement.\n",
    "\n",
    "By improving post-purchase interactions, leveraging data-driven personalization, and building loyalty through rewards and brand connection, online stores can significantly boost retention, increase customer lifetime value (CLV), and ensure sustainable growth.\n",
    "\n"
   ]
  },
  {
   "cell_type": "markdown",
   "id": "2ca10818",
   "metadata": {},
   "source": [
    "<div style=\"background-color: lightblue; color: white; padding: 10px; text-align: center;\">\n",
    "    <h1>_________________________________END________________________________\n",
    "<!--- Devashish Kumar | Tech Skills Trainer | CodroidHub Private Limited | AI/ML Consultant --->\n",
    "    </h1> </div>"
   ]
  },
  {
   "cell_type": "markdown",
   "id": "59c55d2f",
   "metadata": {},
   "source": [
    "<div style=\"background-color: #002147; color: #fff; padding: 30px; text-align: center;\">\n",
    "    <h1>THANK YOU!\n",
    "        <!--- Devashish Kumar | Tech Skills Trainer | CodroidHub Private Limited | AI/ML Consultant --->\n",
    "</h1> </div>"
   ]
  }
 ],
 "metadata": {
  "language_info": {
   "name": "python"
  }
 },
 "nbformat": 4,
 "nbformat_minor": 5
}
