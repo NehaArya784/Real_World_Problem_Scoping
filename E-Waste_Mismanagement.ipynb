{
 "cells": [
  {
   "cell_type": "markdown",
   "id": "69aa5de1",
   "metadata": {},
   "source": [
    "<div style=\"background-color: #add8e6; padding: 10px; height: 70px; border-radius: 15px;\">\n",
    "    <div style=\"font-family: 'Georgia', serif; font-size: 20px; padding: 10px; text-align: right; position: absolute; right: 20px;\">\n",
    "        Neha <br>\n",
    "        <span style=\"font-family: 'Arial', sans-serif;font-size: 12px; color: #0a0a0a;\">Tech Skills Trainee <b>| Real_World_Problem_Scoping|</b> <!--- Devashish Kumar | CodroidHub Private Limited | AI/ML Consultant --->\n",
    "    </div>\n",
    "</div>"
   ]
  },
  {
   "cell_type": "markdown",
   "id": "aa961143",
   "metadata": {},
   "source": [
    "<div style=\"background-color: #002147; padding: 10px; text-align: center; color: white; font-size: 32px; font-family: 'Arial', sans-serif;\">\n",
    "     Real-World Problem:E-Waste Mismanagement<br>\n",
    "    <h3 style=\"text-align: center; color: white; font-size: 15px; font-family: 'Arial', sans-serif;\">Problem_3</h3>\n",
    "</div>"
   ]
  },
  {
   "cell_type": "markdown",
   "id": "c60b4f25",
   "metadata": {},
   "source": [
    "<div style=\"background-color: lightgreen; color: black; padding: 4px;\">\n",
    "    <h2>  What is Problem Scoping?\n",
    "</h2> </div>"
   ]
  },
  {
   "cell_type": "markdown",
   "id": "3710d16d",
   "metadata": {},
   "source": [
    "Problem scoping is the process of clearly understanding, defining, and narrowing down a problem before trying to solve it. It helps us focus on what the problem is, who is affected, where it’s happening, and why it needs to be solved.\n",
    "\n"
   ]
  },
  {
   "cell_type": "markdown",
   "id": "aaac8dda",
   "metadata": {},
   "source": [
    "<div style=\"background-color: lightgreen; color: black; padding: 4px;\">\n",
    "    <h2>  Key Points of Problem Scoping\n",
    "</h2> </div>"
   ]
  },
  {
   "cell_type": "markdown",
   "id": "3e7a6ae3",
   "metadata": {},
   "source": [
    "<b>1.Rising Use of Electronics:</b>\n",
    "\n",
    "-People frequently upgrade devices like smartphones, -laptops, and TVs.\n",
    "\n",
    "<b>2.Lack of Awareness:</b>\n",
    "\n",
    "-Most citizens are unaware of proper e-waste disposal methods.\n",
    "\n",
    "<b>3.Improper Disposal:</b>\n",
    "\n",
    "-E-waste is thrown in regular bins, leading to harmful chemical leaks (e.g., lead, mercury).\n",
    "\n",
    "<b>4.Environmental Pollution:</b>\n",
    "\n",
    "-Improper disposal pollutes soil, water, and air, affecting ecosystems and human health.\n",
    "\n",
    "<b>5.No Organized Collection System:</b>\n",
    "\n",
    "-Many cities lack separate infrastructure for e-waste management.\n",
    "\n",
    "<b>6.Health Hazards:</b>\n",
    "\n",
    "-Exposure to toxic e-waste materials can cause serious health problems for waste workers and the public.\n",
    "\n",
    "<b>7.Need for Recycling:</b>\n",
    "\n",
    "-E-waste contains reusable parts and valuable materials (e.g., gold, copper) that can be recovered.\n",
    "\n",
    "<b>8.Regulatory Gaps:</b>\n",
    "\n",
    "-Weak implementation of e-waste rules and lack of enforcement for companies.\n",
    "\n",
    "<b>9.Potential Solutions Exist:</b>\n",
    "\n",
    "-Through smart bins, public awareness, incentives, and recycling partnerships.\n",
    "\n",
    "<b>10.Successful Models Are Available:</b>\n",
    "\n",
    "Cities like Pune have shown that e-waste can be managed with the right approach.\n",
    "\n"
   ]
  },
  {
   "cell_type": "markdown",
   "id": "43f56d63",
   "metadata": {},
   "source": [
    "<div style=\"background-color: lightblue; color: black; padding: 4px;\">\n",
    "    <h4> Let’s understand the concept of problem scoping more clearly by exploring a real-world scenario and analyzing it using the 4W’s framework (Who, What, Where, Why).\n",
    "</h4> </div>\n"
   ]
  },
  {
   "cell_type": "markdown",
   "id": "7a0a3d96",
   "metadata": {},
   "source": [
    "<!-- Link the Montserrat font -->\n",
    "<link href=\"https://fonts.googleapis.com/css2?family=Montserrat:wght@700&display=swap\" rel=\"stylesheet\">\n",
    "\n",
    "<!-- Main div with centered content and a flexible box size, no scroll bar -->\n",
    "<div style=\"background-color:rgb(51, 129, 247); min-height: 100px; width: 100%; display: flex; justify-content: center; align-items: center; position: relative; padding: 20px; box-sizing: border-box; font-family: 'Montserrat', sans-serif; font-weight: 700; font-size: 20px; border-radius: 15px;\">\n",
    "    <div style=\"position: absolute; top: 10px; right: 10px; padding: 5px 10px; font-size: 14px; color: rgba(0, 0, 0, 0.05); border-radius: 10px;\">Mohammad Idrees Bhat</div>\n",
    "    <!-- Fill the below text with question -->\n",
    "    <!-- Fill the below text with question -->\n",
    "    Scenario:  E-Waste Mismanagement in Bengaluru, India\n",
    "    <!-- Fill the above text with question -->\n",
    "    <!-- Fill the above text with question -->\n",
    "\n",
    "</div>"
   ]
  },
  {
   "cell_type": "markdown",
   "id": "690dd648",
   "metadata": {},
   "source": [
    "In Bengaluru, India’s tech capital, thousands of electronic devices are discarded every day—old computers from offices, broken phones, outdated TVs, and chargers. Many people throw them in regular garbage bins or leave them on the roadside. Without proper disposal facilities or public awareness, most of this e-waste ends up in landfills, where it leaks harmful chemicals like mercury, lead, and cadmium into the soil and water. Local waste pickers, often without any safety gear, handle this toxic waste, putting their health at risk. Despite being a digital hub, the city lacks an organized system to manage its growing e-waste problem.\n",
    "\n"
   ]
  },
  {
   "cell_type": "markdown",
   "id": "d314a0d6",
   "metadata": {},
   "source": [
    "<div style=\"background-color: lightgreen; color: black; padding: 4px;\">\n",
    "    <h3>  Problem Scoping (4W’s)\n",
    "</h3> </div>"
   ]
  },
  {
   "cell_type": "markdown",
   "id": "53dc4090",
   "metadata": {},
   "source": [
    "<b>1. Who is facing the problem?</b>\n",
    "\n",
    "->Citizens of Bengaluru who unknowingly dispose of e-waste improperly.\n",
    "\n",
    "->Waste pickers who are exposed to toxic materials without safety equipment.\n",
    "\n",
    "->Municipal authorities who are unable to manage increasing volumes of electronic waste.\n",
    "\n",
    "->Environmental and health organizations concerned with pollution and public safety.\n",
    "\n"
   ]
  },
  {
   "cell_type": "markdown",
   "id": "bdf8aef6",
   "metadata": {},
   "source": [
    "<b>2. What is the problem?</b>\n",
    "\n",
    "->Improper disposal of electronic waste (phones, TVs, laptops, chargers) into general garbage or roadsides.\n",
    "\n",
    "->E-waste contains toxic substances (like lead, mercury, cadmium) that pollute soil and water.\n",
    "\n",
    "->There is no organized, safe e-waste collection or recycling system in place.\n",
    "\n",
    "->Waste handlers are being exposed to dangerous materials without protection."
   ]
  },
  {
   "cell_type": "markdown",
   "id": "4209c345",
   "metadata": {},
   "source": [
    "<b>3. Where is the problem occurring?</b>\n",
    "\n",
    "->In Bengaluru, especially in:\n",
    "\n",
    "->Residential areas\n",
    "\n",
    "->Tech parks\n",
    "\n",
    "->Landfills\n",
    "\n",
    "->Roadsides and informal waste collection zones\n",
    "\n"
   ]
  },
  {
   "cell_type": "markdown",
   "id": "a3625b21",
   "metadata": {},
   "source": [
    "<b>4. Why is it important to solve this problem?</b>\n",
    "\n",
    "->To protect human health, especially of waste workers and nearby residents.\n",
    "\n",
    "->To prevent long-term environmental damage caused by toxic waste leakage.\n",
    "\n",
    "->To promote proper recycling and resource recovery from e-waste (valuable metals like gold, copper, etc.).\n",
    "\n",
    "->To help Bengaluru maintain its smart city and sustainable development goals."
   ]
  },
  {
   "cell_type": "markdown",
   "id": "9cfd8afc",
   "metadata": {},
   "source": [
    "<div style=\"background-color: lightgreen; color: black; padding: 4px;\">\n",
    "    <h3>  Solution to E-Waste Mismanagement in Bengaluru\n",
    "</h3> </div>"
   ]
  },
  {
   "cell_type": "markdown",
   "id": "7bb0fe45",
   "metadata": {},
   "source": [
    "<h2><b>Establish Organized E-Waste Collection Systems</h2></b>"
   ]
  },
  {
   "cell_type": "markdown",
   "id": "01b48921",
   "metadata": {},
   "source": [
    "->Set up dedicated e-waste bins in residential areas, tech parks, schools, malls, and electronic stores.\n",
    "\n",
    "->Partner with certified e-waste recyclers (like Karo Sambhav or E-Parisaraa) for safe processing.\n",
    "\n"
   ]
  },
  {
   "cell_type": "markdown",
   "id": "94c6d67a",
   "metadata": {},
   "source": [
    "<h2><b>Launch a Mobile App and Web Portal</b></h2>"
   ]
  },
  {
   "cell_type": "markdown",
   "id": "047260ec",
   "metadata": {},
   "source": [
    "->Citizens can:\n",
    "\n",
    "->Schedule e-waste pickups from home.\n",
    "\n",
    "->Locate nearest drop-off points.\n",
    "\n",
    "->Get rewards or discounts for disposing responsibly.\n",
    "\n"
   ]
  },
  {
   "cell_type": "markdown",
   "metadata": {},
   "source": [
    "<h2><b>Run Awareness Campaigns</b></h2>"
   ]
  },
  {
   "cell_type": "markdown",
   "id": "e6ad0b05",
   "metadata": {},
   "source": [
    "->Educate people through:\n",
    "\n",
    "->Social media, community events, and school drives.\n",
    "\n",
    "->Inform about the hazards of unsafe e-waste disposal and how to do it correctly.\n",
    "\n",
    "->Involve RWAs (Resident Welfare Associations), local NGOs, and colleges.\n",
    "\n"
   ]
  },
  {
   "cell_type": "markdown",
   "id": "b05960bb",
   "metadata": {},
   "source": [
    "<h2><b>Ensure Safety for Waste Workers</b></h2>"
   ]
  },
  {
   "cell_type": "markdown",
   "id": "29f8fe88",
   "metadata": {},
   "source": [
    "->Train and equip informal waste pickers with:\n",
    "\n",
    "->Protective gear\n",
    "\n",
    "->Health checkups\n",
    "\n",
    "->Job integration into official recycling systems."
   ]
  },
  {
   "cell_type": "markdown",
   "metadata": {},
   "source": [
    "<h2><b>Government & Policy Support</h2></b>"
   ]
  },
  {
   "cell_type": "markdown",
   "id": "34c76883",
   "metadata": {},
   "source": [
    "->Enforce strict regulations for businesses and tech companies to:\n",
    "\n",
    "->Maintain records of electronic waste generation.\n",
    "\n",
    "->Partner with authorized recyclers.\n",
    "\n",
    "->Offer incentives to startups working in e-waste innovation and recycling.\n",
    "\n"
   ]
  },
  {
   "cell_type": "markdown",
   "id": "19b58237",
   "metadata": {},
   "source": [
    "<div style=\"background-color: lightgreen; color: black; padding: 4px;\">\n",
    "    <h2>  Key Components of the Solution:\n",
    "</h2> </div>\n"
   ]
  },
  {
   "cell_type": "markdown",
   "id": "a700ad87",
   "metadata": {},
   "source": [
    "<b>1.Infrastructure Development</b>\n",
    "\n",
    "->Installation of dedicated e-waste collection bins in residential areas, offices, tech parks, and public spaces.\n",
    "\n",
    "->Establishment of centralized collection centers connected to certified recycling facilities.\n",
    "\n",
    "<b>2️.Digital Integration</b>\n",
    "\n",
    "->Launch of a mobile app and web portal to:\n",
    "\n",
    "-Locate nearby e-waste bins.\n",
    "\n",
    "-Schedule home pickups.\n",
    "\n",
    "-Provide educational tips and track disposal habits.\n",
    "\n",
    "-Offer incentives like coupons or rewards.\n",
    "\n",
    "<b>3️.Awareness & Education</b>\n",
    "\n",
    "->Mass awareness campaigns via:\n",
    "\n",
    "-Social media, local TV, newspapers, posters, and workshops.\n",
    "\n",
    "->Involvement of:\n",
    "\n",
    "-Schools, colleges, RWAs, and NGOs.\n",
    "\n",
    "->Focus on educating people about:\n",
    "\n",
    "->Health/environmental hazards of improper e-waste disposal.\n",
    "\n",
    "-Benefits of proper recycling.\n",
    "\n",
    "<b>4️.Worker Safety and Inclusion</b>\n",
    "\n",
    "->Training informal waste pickers to handle e-waste safely.\n",
    "\n",
    "->Providing PPE (gloves, masks, suits) and health support.\n",
    "\n",
    "->Including them in the formal recycling system as certified handlers or sorters.\n",
    "\n",
    "<b>5️.Policy and Governance</b>\n",
    "\n",
    "->Enforcement of e-waste laws for:\n",
    "\n",
    "-Tech companies, electronic retailers, and corporate offices.\n",
    "\n",
    "-Public-private partnerships with recyclers.\n",
    "\n",
    "->Government support through:\n",
    "\n",
    "-Subsidies, tax benefits, or start-up grants for e-waste innovation.\n",
    "\n",
    "<b>6️. Monitoring & Reporting</b>\n",
    "\n",
    "->Periodic audits and reports by municipal bodies.\n",
    "\n",
    "->Use of technology (like QR code bins or GPS-enabled pickup vans) for real-time tracking.\n",
    "\n",
    "->Public dashboards for transparency."
   ]
  },
  {
   "cell_type": "markdown",
   "id": "2b52baa7",
   "metadata": {},
   "source": [
    "<div style=\"background-color: lightblue; color: white; padding: 10px; text-align: center;\">\n",
    "    <h1>_________________________________END________________________________\n",
    "<!--- Devashish Kumar | Tech Skills Trainer | CodroidHub Private Limited | AI/ML Consultant --->\n",
    "    </h1> </div>"
   ]
  },
  {
   "cell_type": "markdown",
   "id": "eb258abd",
   "metadata": {},
   "source": [
    "<div style=\"background-color: #002147; color: #fff; padding: 30px; text-align: center;\">\n",
    "    <h1>THANK YOU!\n",
    "        <!--- Devashish Kumar | Tech Skills Trainer | CodroidHub Private Limited | AI/ML Consultant --->\n",
    "</h1> </div>"
   ]
  },
  {
   "cell_type": "markdown",
   "id": "6df48b69",
   "metadata": {},
   "source": []
  }
 ],
 "metadata": {
  "kernelspec": {
   "display_name": "Python 3",
   "language": "python",
   "name": "python3"
  },
  "language_info": {
   "codemirror_mode": {
    "name": "ipython",
    "version": 3
   },
   "file_extension": ".py",
   "mimetype": "text/x-python",
   "name": "python",
   "nbconvert_exporter": "python",
   "pygments_lexer": "ipython3",
   "version": "3.11.4"
  }
 },
 "nbformat": 4,
 "nbformat_minor": 5
}
