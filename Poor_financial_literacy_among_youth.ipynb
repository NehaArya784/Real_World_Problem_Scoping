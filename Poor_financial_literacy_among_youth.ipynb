{
 "cells": [
  {
   "cell_type": "markdown",
   "id": "9c67634f",
   "metadata": {},
   "source": [
    "<div style=\"background-color: #add8e6; padding: 10px; height: 70px; border-radius: 15px;\">\n",
    "    <div style=\"font-family: 'Georgia', serif; font-size: 20px; padding: 10px; text-align: right; position: absolute; right: 20px;\">\n",
    "        Neha <br>\n",
    "        <span style=\"font-family: 'Arial', sans-serif;font-size: 12px; color: #0a0a0a;\">Tech Skills Trainee <b>| Real_World_Problem_Scoping|</b> <!--- Devashish Kumar | CodroidHub Private Limited | AI/ML Consultant --->\n",
    "    </div>\n",
    "</div>"
   ]
  },
  {
   "cell_type": "markdown",
   "id": "390ec44c",
   "metadata": {},
   "source": [
    "<div style=\"background-color: #002147; padding: 10px; text-align: center; color: white; font-size: 32px; font-family: 'Arial', sans-serif;\">\n",
    "     Real-World Problem:Poor Financial Literacy Among Youth <br>\n",
    "    <h3 style=\"text-align: center; color: white; font-size: 15px; font-family: 'Arial', sans-serif;\">Problem_8</h3>\n",
    "</div>"
   ]
  },
  {
   "cell_type": "markdown",
   "id": "d0b0dd3b",
   "metadata": {},
   "source": [
    "<div style=\"background-color: lightgreen; color: black; padding: 4px;\">\n",
    "    <h2>  What is Problem Scoping?\n",
    "</h2> </div>"
   ]
  },
  {
   "cell_type": "markdown",
   "id": "faf0d1ba",
   "metadata": {},
   "source": [
    "Problem scoping is the process of clearly understanding, defining, and narrowing down a problem before trying to solve it. It helps us focus on what the problem is, who is affected, where it’s happening, and why it needs to be solved.\n",
    "\n"
   ]
  },
  {
   "cell_type": "markdown",
   "id": "abb10df3",
   "metadata": {},
   "source": [
    "<div style=\"background-color: lightblue; color: black; padding: 4px;\">\n",
    "    <h4> Let’s understand the concept of problem scoping more clearly by exploring a real-world scenario and analyzing it using the 4W’s framework (Who, What, Where, Why).\n",
    "</h4> </div>\n"
   ]
  },
  {
   "cell_type": "markdown",
   "id": "baa999e9",
   "metadata": {},
   "source": [
    "<!-- Link the Montserrat font -->\n",
    "<link href=\"https://fonts.googleapis.com/css2?family=Montserrat:wght@700&display=swap\" rel=\"stylesheet\">\n",
    "\n",
    "<!-- Main div with centered content and a flexible box size, no scroll bar -->\n",
    "<div style=\"background-color:rgb(51, 129, 247); min-height: 100px; width: 100%; display: flex; justify-content: center; align-items: center; position: relative; padding: 20px; box-sizing: border-box; font-family: 'Montserrat', sans-serif; font-weight: 700; font-size: 20px; border-radius: 15px;\">\n",
    "    <div style=\"position: absolute; top: 10px; right: 10px; padding: 5px 10px; font-size: 14px; color: rgba(0, 0, 0, 0.05); border-radius: 10px;\">Mohammad Idrees Bhat</div>\n",
    "    <!-- Fill the below text with question -->\n",
    "    <!-- Fill the below text with question -->\n",
    "    Scenario:College Student Trapped in Debt Cycle Due to Poor Financial Literacy\n",
    "    <!-- Fill the above text with question -->\n",
    "    <!-- Fill the above text with question -->\n",
    "\n",
    "</div>"
   ]
  },
  {
   "cell_type": "markdown",
   "id": "ba221d4a",
   "metadata": {},
   "source": [
    "<H2><B>Situation:</H2></B>\n",
    "Arjun moves to a new city to pursue his engineering degree. For the first time, he is responsible for managing his own expenses — including food, transportation, internet, and other essentials. He receives a monthly allowance from his parents, and also gets access to a student credit card with a ₹10,000 limit.\n",
    "\n"
   ]
  },
  {
   "cell_type": "markdown",
   "id": "a96fea07",
   "metadata": {},
   "source": [
    "<div style=\"background-color: lightgreen; color: black; padding: 4px;\">\n",
    "    <h3>  Problem Scoping (4W’s)\n",
    "</h3> </div>"
   ]
  },
  {
   "cell_type": "markdown",
   "id": "668a6cc3",
   "metadata": {},
   "source": [
    "<b>1.What is the problem?</b>\n",
    "\n",
    "->Lack of basic financial literacy:\n",
    "\n",
    "-Poor understanding of budgeting, saving, credit, debt, and investments\n",
    "\n",
    "->Results in:\n",
    "\n",
    "-Overspending or untracked expenses\n",
    "\n",
    "-Misuse of credit cards or BNPL services\n",
    "\n",
    "-Debt accumulation\n",
    "\n",
    "-Financial anxiety and stress\n",
    "\n",
    "-Lower academic or work performance due to mental burden\n",
    "\n",
    "-Financial decisions made without understanding long-term consequences\n",
    "\n"
   ]
  },
  {
   "cell_type": "markdown",
   "id": "05231690",
   "metadata": {},
   "source": [
    "<b>2.Who is affected by the problem?</b>\n",
    "\n",
    "<b>->Target group:</b> Youth aged 16–25 (especially college students like Arjun)\n",
    "\n",
    "->Typically first-time earners or expense managers\n",
    "\n",
    "->Students from middle or lower-middle-class backgrounds\n",
    "\n",
    "->Often unaware of financial systems (credit cards, loans, interest rates)\n",
    "\n",
    "->May not have access to formal financial education\n",
    "\n"
   ]
  },
  {
   "cell_type": "markdown",
   "id": "d06940ed",
   "metadata": {},
   "source": [
    "<b>3.Where does the problem occur?</b>\n",
    "\n",
    "->In urban and semi-urban areas where students live independently\n",
    "\n",
    "->Common in colleges and universities, especially among hostellers\n",
    "\n",
    "->Also relevant in rural areas where online lending is rising, but knowledge is not\n",
    "\n",
    "->Found globally, but the severity varies by country and education system\n",
    "\n"
   ]
  },
  {
   "cell_type": "markdown",
   "id": "e15bb0fd",
   "metadata": {},
   "source": [
    "<b>4.Why is it important to solve this problem?</b>\n",
    "\n",
    "->Promotes financial independence and security for young adults\n",
    "\n",
    "->Reduces student debt and stress\n",
    "\n",
    "->Encourages healthy financial habits early in life\n",
    "\n",
    "->Helps prevent financial exploitation via predatory lending or apps\n",
    "\n",
    "->Supports economic development by building a financially literate population\n",
    "\n",
    "->Creates a foundation for responsible adulthood and better decision-making"
   ]
  },
  {
   "cell_type": "markdown",
   "id": "0df25b51",
   "metadata": {},
   "source": [
    "<div style=\"background-color: lightgreen; color: black; padding: 4px;\">\n",
    "    <h3> Solutions for Poor Financial Literacy Among Youth\n",
    "</h3> </div>"
   ]
  },
  {
   "cell_type": "markdown",
   "id": "52d48216",
   "metadata": {},
   "source": [
    "<b>1. Financial Literacy Education Programs</b>\n",
    "\n",
    "<b>->In-school/college curriculum integration:</b>\n",
    "\n",
    "-Include personal finance topics in schools and university general education courses.\n",
    "\n",
    "<b>Workshops & webinars:</b>\n",
    "\n",
    "-Partner with financial institutions to deliver live sessions on budgeting, credit, saving, etc.\n",
    "\n",
    "<b>Peer-to-peer learning:</b>\n",
    "\n",
    "-Senior students or alumni guide juniors through real-world financial experiences.\n",
    "\n",
    "<b>2. Gamified Financial Learning Apps</b>\n",
    "\n",
    "->Mobile apps that teach money management through -simulations and rewards:\n",
    "\n",
    "-Interactive budgeting challenges.\n",
    "\n",
    "-Expense-tracking games.\n",
    "\n",
    "-Investment simulators with fake money.\n",
    "\n",
    "<b>Example Features:</b>\n",
    "\n",
    "-Virtual rewards for smart spending\n",
    "\n",
    "-Leaderboards and daily tasks\n",
    "\n",
    "<b>3. AI-based Personal Finance Assistant for Youth</b>\n",
    "\n",
    "->An app that:\n",
    "\n",
    "-Tracks expenses\n",
    "\n",
    "-Sends budget alerts\n",
    "\n",
    "-Gives recommendations (e.g., “You’re overspending on food delivery”)\n",
    "\n",
    "-Explains financial terms in simple language\n",
    "\n",
    "->Integrate with UPI/bank accounts for real-time feedback\n",
    "\n",
    "<b>4. Social Media Awareness Campaigns</b>\n",
    "\n",
    "->Use platforms like Instagram, YouTube, and LinkedIn to:\n",
    "\n",
    "-Share bite-sized finance tips\n",
    "\n",
    "-Post relatable stories (e.g., “How I got out of college debt”)\n",
    "\n",
    "-Collaborate with influencers to normalize budgeting and saving\n",
    "\n",
    "->Use memes, reels, and animation to make finance fun\n",
    "\n",
    "<b>5. Access to Youth-friendly Financial Tools</b>\n",
    "\n",
    "->Create student-focused bank accounts and cards with:\n",
    "\n",
    "-Spending limits\n",
    "\n",
    "-No-overdraft features\n",
    "\n",
    "-Auto-saving options\n",
    "\n",
    "->Build tools that explain loans, EMIs, credit scores in a simplified manner\n",
    "\n",
    "<b>6. Financial Mentorship and Counseling</b>\n",
    "\n",
    "->On-campus or online mentorship programs where:\n",
    "\n",
    "-Students can talk to financial advisors or trained mentors\n",
    "\n",
    "-Get guidance on debt management, loan selection, or investment basics\n",
    "\n",
    "->Confidential and accessible support\n",
    "\n",
    "<b>7. Government and NGO Support</b>\n",
    "\n",
    "->Run nationwide financial literacy missions for students\n",
    "\n",
    "->Offer free certified courses on platforms like SWAYAM, NPTEL, Coursera, etc.\n",
    "\n",
    "->Provide subsidies or incentives for youth who complete financial literacy programs\n",
    "\n"
   ]
  },
  {
   "cell_type": "markdown",
   "id": "18873866",
   "metadata": {},
   "source": [
    "<div class=\"alert alert-block alert-warning\"  padding: 10px; text-align: center;\">\n",
    "    <font size=\"4\"> <b>Conclusion</b></font>\n",
    "</div>"
   ]
  },
  {
   "cell_type": "markdown",
   "id": "a06be6f8",
   "metadata": {},
   "source": [
    "Addressing the issue of poor financial literacy among youth is essential to building a financially responsible, confident, and secure generation. As demonstrated, the lack of basic financial knowledge leads to poor decision-making, mounting debts, and unnecessary stress, which negatively impacts both their mental well-being and their future financial stability."
   ]
  },
  {
   "cell_type": "markdown",
   "id": "8edbd379",
   "metadata": {},
   "source": [
    "<div style=\"background-color: lightblue; color: white; padding: 10px; text-align: center;\">\n",
    "    <h1>_________________________________END________________________________\n",
    "<!--- Devashish Kumar | Tech Skills Trainer | CodroidHub Private Limited | AI/ML Consultant --->\n",
    "    </h1> </div>"
   ]
  },
  {
   "cell_type": "markdown",
   "id": "09fd9315",
   "metadata": {},
   "source": [
    "<div style=\"background-color: #002147; color: #fff; padding: 30px; text-align: center;\">\n",
    "    <h1>THANK YOU!\n",
    "        <!--- Devashish Kumar | Tech Skills Trainer | CodroidHub Private Limited | AI/ML Consultant --->\n",
    "</h1> </div>"
   ]
  },
  {
   "cell_type": "markdown",
   "id": "8c9da08d",
   "metadata": {},
   "source": []
  }
 ],
 "metadata": {
  "language_info": {
   "name": "python"
  }
 },
 "nbformat": 4,
 "nbformat_minor": 5
}
