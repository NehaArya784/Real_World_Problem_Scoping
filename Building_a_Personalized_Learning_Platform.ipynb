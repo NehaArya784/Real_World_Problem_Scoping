{
 "cells": [
  {
   "cell_type": "markdown",
   "id": "7070fa86",
   "metadata": {},
   "source": [
    "<div style=\"background-color: #add8e6; padding: 10px; height: 70px; border-radius: 15px;\">\n",
    "    <div style=\"font-family: 'Georgia', serif; font-size: 20px; padding: 10px; text-align: right; position: absolute; right: 20px;\">\n",
    "        Neha <br>\n",
    "        <span style=\"font-family: 'Arial', sans-serif;font-size: 12px; color: #0a0a0a;\">Tech Skills Trainee <b>| Real_World_Problem_Scoping|</b> <!--- Devashish Kumar | CodroidHub Private Limited | AI/ML Consultant --->\n",
    "    </div>\n",
    "</div>"
   ]
  },
  {
   "cell_type": "markdown",
   "id": "fc12a94c",
   "metadata": {},
   "source": [
    "<div style=\"background-color: #002147; padding: 10px; text-align: center; color: white; font-size: 32px; font-family: 'Arial', sans-serif;\">\n",
    "     Real-World Problem:Building a Personalized Learning Platform <br>\n",
    "    <h3 style=\"text-align: center; color: white; font-size: 15px; font-family: 'Arial', sans-serif;\">Problem_4</h3>\n",
    "</div>"
   ]
  },
  {
   "cell_type": "markdown",
   "id": "b02e4276",
   "metadata": {},
   "source": [
    "<div style=\"background-color: lightgreen; color: black; padding: 4px;\">\n",
    "    <h2>  What is Problem Scoping?\n",
    "</h2> </div>"
   ]
  },
  {
   "cell_type": "markdown",
   "id": "a956402c",
   "metadata": {},
   "source": [
    "Problem scoping is the process of clearly understanding, defining, and narrowing down a problem before trying to solve it. It helps us focus on what the problem is, who is affected, where it’s happening, and why it needs to be solved.\n",
    "\n"
   ]
  },
  {
   "cell_type": "markdown",
   "id": "77cf1a41",
   "metadata": {},
   "source": [
    "<div style=\"background-color: lightblue; color: black; padding: 4px;\">\n",
    "    <h4> Let’s understand the concept of problem scoping more clearly by exploring a real-world scenario and analyzing it using the 4W’s framework (Who, What, Where, Why).\n",
    "</h4> </div>\n"
   ]
  },
  {
   "cell_type": "markdown",
   "id": "908a5606",
   "metadata": {},
   "source": [
    "<!-- Link the Montserrat font -->\n",
    "<link href=\"https://fonts.googleapis.com/css2?family=Montserrat:wght@700&display=swap\" rel=\"stylesheet\">\n",
    "\n",
    "<!-- Main div with centered content and a flexible box size, no scroll bar -->\n",
    "<div style=\"background-color:rgb(51, 129, 247); min-height: 100px; width: 100%; display: flex; justify-content: center; align-items: center; position: relative; padding: 20px; box-sizing: border-box; font-family: 'Montserrat', sans-serif; font-weight: 700; font-size: 20px; border-radius: 15px;\">\n",
    "    <div style=\"position: absolute; top: 10px; right: 10px; padding: 5px 10px; font-size: 14px; color: rgba(0, 0, 0, 0.05); border-radius: 10px;\">Mohammad Idrees Bhat</div>\n",
    "    <!-- Fill the below text with question -->\n",
    "    <!-- Fill the below text with question -->\n",
    "    Scenario:High Dropout Rate in Online Learning Platform\n",
    "    <!-- Fill the above text with question -->\n",
    "    <!-- Fill the above text with question -->\n",
    "\n",
    "</div>"
   ]
  },
  {
   "cell_type": "markdown",
   "id": "4119a257",
   "metadata": {},
   "source": [
    "An ed-tech company notices that nearly 60% of its users drop out after completing just one or two modules of an online course. On analyzing user feedback, it becomes clear that:\n",
    "\n",
    "-Learners feel overwhelmed by non-relevant content.\n",
    "\n",
    "-Some find the material too fast or too slow, depending on their background.\n",
    "\n",
    "-Lack of engagement and motivation leads to lower course completion.\n",
    "\n",
    "The company realizes the problem isn’t the content itself—but the one-size-fits-all approach. Different users have different learning needs, paces, and interests.\n",
    "\n",
    "So, the company decides to build a Personalized Learning Platform using AI and machine learning, aiming to provide each learner with a customized path based on their preferences, performance, and goals."
   ]
  },
  {
   "cell_type": "markdown",
   "id": "2e8ea17d",
   "metadata": {},
   "source": [
    "<div style=\"background-color: lightgreen; color: black; padding: 4px;\">\n",
    "    <h3>  Problem Scoping (4W’s)\n",
    "</h3> </div>"
   ]
  },
  {
   "cell_type": "markdown",
   "id": "09238ccd",
   "metadata": {},
   "source": [
    "<b>1. What is the problem?</b>\n",
    "\n",
    "The online learning platform is facing a high dropout rate—around 60% of users leave the course after completing only the initial few modules. Learners are not finishing their courses, and user engagement is low.\n",
    "\n",
    "\n"
   ]
  },
  {
   "cell_type": "markdown",
   "id": "960969ff",
   "metadata": {},
   "source": [
    "<b>2. Why is it happening?</b>\n",
    "\n",
    "Because the platform follows a one-size-fits-all approach, which:\n",
    "\n",
    "->Doesn't match individual learners' pace, skill level, or interests.\n",
    "\n",
    "->Leads to learners feeling disengaged, overwhelmed, or underchallenged.\n",
    "\n",
    "->Lacks features like adaptive content, personalized feedback, or goal-based learning paths."
   ]
  },
  {
   "cell_type": "markdown",
   "id": "3e62765a",
   "metadata": {},
   "source": []
  },
  {
   "cell_type": "markdown",
   "id": "8ad810fa",
   "metadata": {},
   "source": [
    "<b>3. Where is it happening?</b>\n",
    "\n",
    "On an online learning platform offering a wide range of courses—likely an ed-tech website or app. This issue is common in platforms with large user bases, such as:\n",
    "\n",
    "->MOOCs (e.g., Coursera, edX, Udemy)\n",
    "\n",
    "->Company-specific LMS systems\n",
    "\n",
    "->University-hosted online portals"
   ]
  },
  {
   "cell_type": "markdown",
   "id": "5b88ec39",
   "metadata": {},
   "source": [
    "<b>4. Who is affected or involved?</b>\n",
    "\n",
    "Learners: They feel frustrated and drop out early, wasting time and money.\n",
    "\n",
    "Course creators: Their content doesn’t get fully used or appreciated.\n",
    "\n",
    "Platform developers & management: Face declining user retention and engagement.\n",
    "\n",
    "Institutions or companies (if partnered): Worry about learner outcomes and ROI."
   ]
  },
  {
   "cell_type": "markdown",
   "id": "f68f8313",
   "metadata": {},
   "source": [
    "<div style=\"background-color: lightgreen; color: black; padding: 4px;\">\n",
    "    <h3>  key to identify why learners are dropping out\n",
    "</h3> </div>"
   ]
  },
  {
   "cell_type": "markdown",
   "id": "3fb08736",
   "metadata": {},
   "source": [
    "<b>->Lack of interaction or engagement\n",
    "\n",
    "->Overwhelming or unclear content\n",
    "\n",
    "->Technical issues with the platform\n",
    "\n",
    "->Poor course pacing or structure\n",
    "\n",
    "->Lack of accountability or support\n",
    "\n",
    "->No real-world value or motivation</b>"
   ]
  },
  {
   "cell_type": "markdown",
   "id": "f386ca85",
   "metadata": {},
   "source": [
    "<div style=\"background-color: lightgreen; color: black; padding: 4px;\">\n",
    "    <h3>  Solutions to Reduce Dropout Rate\n",
    "</h3> </div>"
   ]
  },
  {
   "cell_type": "markdown",
   "id": "0612ab9e",
   "metadata": {},
   "source": [
    "<b>1. Improve Course Design and User Experience:</b>\n",
    "\n",
    "->Chunk content into small, digestible units (microlearning).\n",
    "\n",
    "->Use multimedia formats (videos, quizzes, infographics, podcasts).\n",
    "\n",
    "->Add interactive elements like polls, simulations, and gamified tasks.\n",
    "\n",
    "->Simplify navigation and interface to reduce cognitive load.\n",
    "\n",
    "<b>2. Increase Engagement:</b>\n",
    "\n",
    "->Integrate gamification: badges, points, leaderboards, and certificates.\n",
    "\n",
    "->Encourage peer-to-peer interaction: forums, group projects, or discussion boards.\n",
    "\n",
    "->Offer live sessions or AMA (Ask Me Anything) with instructors.\n",
    "\n",
    "<b>3. Personalized Learning Paths:</b>\n",
    "\n",
    "->Use AI or logic-based systems to personalize learning recommendations.\n",
    "\n",
    "->Allow learners to set personal goals and track their progress.\n",
    "\n",
    "<b>4. Enhance Support Systems:</b>\n",
    "\n",
    "->Provide onboarding tutorials for new users.\n",
    "\n",
    "->Add chatbots or live support for quick help.\n",
    "\n",
    "->Set up weekly check-ins or nudges via emails/SMS.\n",
    "\n",
    "<b>5. Build Accountability:</b>\n",
    "Integrate progress reminders and deadlines.\n",
    "\n",
    "->Offer mentor support or study buddies.\n",
    "\n",
    "->Create community challenges to build a sense of commitment.\n",
    "\n",
    "<b>6. Collect Feedback and Iterate:</b>\n",
    "\n",
    "->Use surveys or exit interviews to understand why users leave.\n",
    "\n",
    "->Continuously improve content based on learner feedback.\n",
    "\n",
    "<b>7. Certifications and Real-world Value:</b>\n",
    "\n",
    "->Provide certifications that are recognized or can be shared on LinkedIn.\n",
    "\n",
    "->Connect learning outcomes to career goals, internships, or job boards.\n",
    "\n"
   ]
  },
  {
   "cell_type": "markdown",
   "id": "cfefbf38",
   "metadata": {},
   "source": [
    "<div class=\"alert alert-block alert-warning\"  padding: 10px; text-align: center;\">\n",
    "    <font size=\"4\"> <b>Conclusion</b></font>\n",
    "</div>"
   ]
  },
  {
   "cell_type": "markdown",
   "id": "248909fe",
   "metadata": {},
   "source": [
    "By addressing the key factors behind learner dropout—such as engagement, support, personalization, and usability—online learning platforms can create a more effective, motivating, and enjoyable learning environment. This holistic approach not only improves learner success but also strengthens the platform’s reputation, scalability, and long-term sustainability.\n",
    "\n"
   ]
  },
  {
   "cell_type": "markdown",
   "id": "70605355",
   "metadata": {},
   "source": [
    "<div style=\"background-color: lightblue; color: white; padding: 10px; text-align: center;\">\n",
    "    <h1>_________________________________END________________________________\n",
    "<!--- Devashish Kumar | Tech Skills Trainer | CodroidHub Private Limited | AI/ML Consultant --->\n",
    "    </h1> </div>"
   ]
  },
  {
   "cell_type": "markdown",
   "id": "c9d431dd",
   "metadata": {},
   "source": [
    "<div style=\"background-color: #002147; color: #fff; padding: 30px; text-align: center;\">\n",
    "    <h1>THANK YOU!\n",
    "        <!--- Devashish Kumar | Tech Skills Trainer | CodroidHub Private Limited | AI/ML Consultant --->\n",
    "</h1> </div>"
   ]
  },
  {
   "cell_type": "markdown",
   "id": "d169a01a",
   "metadata": {},
   "source": []
  }
 ],
 "metadata": {
  "language_info": {
   "name": "python"
  }
 },
 "nbformat": 4,
 "nbformat_minor": 5
}
