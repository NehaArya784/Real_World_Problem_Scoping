{
 "cells": [
  {
   "cell_type": "markdown",
   "id": "19312f73",
   "metadata": {},
   "source": [
    "<div style=\"background-color: #add8e6; padding: 10px; height: 70px; border-radius: 15px;\">\n",
    "    <div style=\"font-family: 'Georgia', serif; font-size: 20px; padding: 10px; text-align: right; position: absolute; right: 20px;\">\n",
    "    Neha <br>\n",
    "        <span style=\"font-family: 'Arial', sans-serif;font-size: 12px; color: #0a0a0a;\">Tech Skills Trainee <b>|Real_World_Problem_Scoping|</b> <!--- Devashish Kumar | CodroidHub Private Limited | AI/ML Consultant --->\n",
    "    </div>\n",
    "</div>"
   ]
  },
  {
   "cell_type": "markdown",
   "id": "51311539",
   "metadata": {},
   "source": [
    "<div style=\"background-color: #002147; padding: 10px; text-align: center; color: white; font-size: 32px; font-family: 'Arial', sans-serif;\">\n",
    "     Real-World Problem:Crop yield unpredictability due to climate change\n",
    " <br>\n",
    "    <h3 style=\"text-align: center; color: white; font-size: 15px; font-family: 'Arial', sans-serif;\">Problem_7</h3>\n",
    "</div>"
   ]
  },
  {
   "cell_type": "markdown",
   "id": "e8d91888",
   "metadata": {},
   "source": [
    "<div style=\"background-color: lightgreen; color: black; padding: 4px;\">\n",
    "    <h2>  What is Problem Scoping?\n",
    "</h2> </div>"
   ]
  },
  {
   "cell_type": "markdown",
   "id": "57ae167d",
   "metadata": {},
   "source": [
    "Problem scoping is the process of clearly understanding, defining, and narrowing down a problem before trying to solve it. It helps us focus on what the problem is, who is affected, where it’s happening, and why it needs to be solved.\n",
    "\n"
   ]
  },
  {
   "cell_type": "markdown",
   "id": "8c51de8e",
   "metadata": {},
   "source": [
    "<div style=\"background-color: lightgreen; color: black; padding: 4px;\">\n",
    "    <h2>Key Points for this  Problem Scoping\n",
    "</h2> </div>"
   ]
  },
  {
   "cell_type": "markdown",
   "id": "ea58f841",
   "metadata": {},
   "source": [
    "<b>Problem Statement</b>\n",
    "\n",
    "->Crop yields are becoming highly unpredictable due to changing climate conditions.\n",
    "\n",
    "<b>Target Group</b>\n",
    "\n",
    "->Smallholder and rural farmers who depend on seasonal rainfall and traditional farming methods.\n",
    "\n",
    "<b>Causes of the Problem</b>\n",
    "\n",
    "->Irregular rainfall patterns\n",
    "\n",
    "->Increased frequency of droughts and floods\n",
    "\n",
    "->Rising temperatures and extreme weather events\n",
    "\n",
    "<b>Effects/Consequences</b>\n",
    "\n",
    "->Reduced agricultural productivity\n",
    "\n",
    "->Increased food insecurity\n",
    "\n",
    "<b>Financial losses for farmers</b>\n",
    "\n",
    "->Migration of rural population to cities\n",
    "\n",
    "<b>Knowledge Gaps/Challenges</b>\n",
    "\n",
    "->Lack of access to accurate weather forecasts\n",
    "\n",
    "->Limited use of climate-resilient crops or techniques\n",
    "\n",
    "->Insufficient government or tech support for farmers\n",
    "\n",
    "<b>Why It Matters (Relevance)</b>\n",
    "\n",
    "->Affects food supply chains and rural economies\n",
    "\n",
    "Threatens national food security\n",
    "\n",
    "->Requires urgent, sustainable solutions\n",
    "\n",
    "<b>Scope for Innovation/Research</b>\n",
    "\n",
    "<b>Climate-smart agriculture</b>\n",
    "\n",
    "->AI/ML-based weather prediction and crop advisory tools\n",
    "\n",
    "->Low-cost IoT sensors and mobile apps for farmers\n",
    "\n",
    "P->olicy and support systems for risk management"
   ]
  },
  {
   "cell_type": "markdown",
   "id": "84fde5d2",
   "metadata": {},
   "source": [
    "<div style=\"background-color: lightblue; color: black; padding: 4px;\">\n",
    "    <h4> Let’s understand the concept of problem scoping more clearly by exploring a real-world scenario and analyzing it using the 4W’s framework (Who, What, Where, Why).\n",
    "</h4> </div>\n"
   ]
  },
  {
   "cell_type": "markdown",
   "id": "51cf1eaa",
   "metadata": {},
   "source": [
    "<!-- Link the Montserrat font -->\n",
    "<link href=\"https://fonts.googleapis.com/css2?family=Montserrat:wght@700&display=swap\" rel=\"stylesheet\">\n",
    "\n",
    "<!-- Main div with centered content and a flexible box size, no scroll bar -->\n",
    "<div style=\"background-color:rgb(51, 129, 247); min-height: 100px; width: 100%; display: flex; justify-content: center; align-items: center; position: relative; padding: 20px; box-sizing: border-box; font-family: 'Montserrat', sans-serif; font-weight: 700; font-size: 20px; border-radius: 15px;\">\n",
    "    <div style=\"position: absolute; top: 10px; right: 10px; padding: 5px 10px; font-size: 14px; color: rgba(0, 0, 0, 0.05); border-radius: 10px;\">Mohammad Idrees Bhat</div>\n",
    "    <!-- Fill the below text with question -->\n",
    "    <!-- Fill the below text with question -->\n",
    "    Scenario: A Farming Village in Eastern Kenya : A Real-World Scenario\n",
    "    <!-- Fill the above text with question -->\n",
    "    <!-- Fill the above text with question -->\n",
    "\n",
    "</div>"
   ]
  },
  {
   "cell_type": "markdown",
   "id": "a34796be",
   "metadata": {},
   "source": [
    "<b>Background:</b>\n",
    "\n",
    "In the semi-arid region of Eastern Kenya, a community of smallholder farmers relies heavily on maize and beans as their primary crops. For generations, these farmers have planted according to the predictable seasonal rains—typically beginning in late March and tapering off by early June.\n",
    "\n",
    "<b>Recent Changes:</b>\n",
    "\n",
    "Over the past five years, the farmers have experienced increasingly erratic weather patterns:\n",
    "\n",
    "->Rains arrive late or don't come at all.\n",
    "\n",
    "->Unseasonal dry spells occur during critical growth periods.\n",
    "\n",
    "->Sudden flash floods wash away topsoil and young crops.\n",
    "\n",
    "->Extreme heat waves scorch plants nearing harvest.\n",
    "\n",
    "<b>These changes have led to wildly fluctuating crop yields—some years produce just 30% of the expected harvest, while others bring near-total crop failure. As a result:</b>\n",
    "\n",
    "->Food insecurity is rising.\n",
    "\n",
    "->Farmers are reluctant to invest in seeds and fertilizer due to high risk.\n",
    "\n",
    "->Youth are migrating to urban areas, seeing farming as a dead end.\n",
    "\n"
   ]
  },
  {
   "cell_type": "markdown",
   "id": "53a1be42",
   "metadata": {},
   "source": [
    "<div style=\"background-color: lightgreen; color: black; padding: 4px;\">\n",
    "    <h2>Problem Scope Summary:\n",
    "</h2> </div>"
   ]
  },
  {
   "cell_type": "markdown",
   "id": "34fdc7fd",
   "metadata": {},
   "source": [
    "This scenario illustrates how climate change—through temperature volatility, irregular rainfall, and extreme events—has made traditional farming calendars unreliable, thereby undermining food security and economic stability for smallholder farmers. There's a growing need for adaptive agricultural strategies, real-time weather intelligence, and climate-resilient crop systems."
   ]
  },
  {
   "cell_type": "markdown",
   "id": "7436540e",
   "metadata": {},
   "source": [
    "<div style=\"background-color: lightgreen; color: black; padding: 4px;\">\n",
    "    <h3>  Problem Scoping (4W’s)\n",
    "</h3> </div>"
   ]
  },
  {
   "cell_type": "markdown",
   "id": "eff8d7f8",
   "metadata": {},
   "source": [
    "<b>1.Who is affected?</b>\n",
    "\n",
    "->Smallholder farmers in rural areas, especially those who rely on seasonal rainfall for crops.\n",
    "\n",
    "->Communities that depend on agriculture for food and income.\n",
    "\n",
    "<b>2.What is the problem?</b>\n",
    "\n",
    "->Crop yields are unpredictable due to climate change.\n",
    "\n",
    "->Farmers face irregular rainfall, extreme temperatures, droughts, and floods that affect planting and harvesting.\n",
    "\n",
    "<b>3.Where is it happening?</b>\n",
    "\n",
    "->In agricultural regions vulnerable to climate change—e.g., Eastern Kenya, but also many parts of Africa, Asia, and Latin America.\n",
    "\n",
    "->Mostly in semi-arid and rain-dependent areas.\n",
    "\n",
    "<b>4.Why is it a problem?</b>\n",
    "\n",
    "->Leads to food shortages, financial losses, and poverty.\n",
    "\n",
    "->Makes farming riskier, reducing interest in agriculture.\n",
    "\n",
    "->Contributes to rural-to-urban migration and threatens food security."
   ]
  },
  {
   "cell_type": "markdown",
   "id": "5870db7b",
   "metadata": {},
   "source": [
    "<div style=\"background-color: lightgreen; color: black; padding: 4px;\">\n",
    "    <h3> Solutions for Crop Yield Unpredictability\n",
    "</h3> </div>"
   ]
  },
  {
   "cell_type": "markdown",
   "id": "f08094b1",
   "metadata": {},
   "source": [
    "<b>1. Climate-Smart Agriculture</b>\n",
    "\n",
    "->Use drought-resistant or heat-tolerant crop varieties\n",
    "\n",
    "->Practice crop diversification to reduce risk\n",
    "\n",
    "->Implement conservation farming (minimal tilling, mulching, etc.)\n",
    "\n",
    "<b>2. Technology-Based Solutions</b>\n",
    "\n",
    "->AI and ML models to predict weather patterns and suggest planting times\n",
    "\n",
    "->Mobile apps to give farmers real-time climate, pest, and soil health info\n",
    "\n",
    "->IoT sensors in farms to monitor moisture, temperature, and rainfall\n",
    "\n",
    "<b>3. Water Management Techniques</b>\n",
    "\n",
    "->Install rainwater harvesting systems\n",
    "\n",
    "->Use drip irrigation to save water and deliver it directly to crops\n",
    "\n",
    "->Build small-scale water storage and irrigation reservoirs\n",
    "\n",
    "<b>4. Farmer Education & Training</b>\n",
    "\n",
    "->Train farmers in climate-resilient practices and agroforestry\n",
    "\n",
    "->Conduct awareness campaigns on changing weather patterns\n",
    "\n",
    "->Provide extension services and local demo farms\n",
    "\n",
    "<b>5. Policy and Financial Support</b>\n",
    "\n",
    "->Provide crop insurance to reduce risks from crop failure\n",
    "\n",
    "->Offer government subsidies or low-interest loans for sustainable tools and seeds\n",
    "\n",
    "->Strengthen early warning systems and emergency response plans\n",
    "\n",
    "<b>6. Community-Based Approaches</b>\n",
    "\n",
    "->Form cooperatives for shared tools, seeds, and knowledge\n",
    "\n",
    "->Encourage community seed banks for resilient crops\n",
    "\n",
    "->Promote local data collection to adapt strategies to regional conditions\n",
    "\n"
   ]
  },
  {
   "cell_type": "markdown",
   "id": "4a365b59",
   "metadata": {},
   "source": [
    "<div class=\"alert alert-block alert-warning\"  padding: 10px; text-align: center;\">\n",
    "    <font size=\"4\"> <b>Goal of The Solutions</b></font>\n",
    "</div>\n"
   ]
  },
  {
   "cell_type": "markdown",
   "id": "ff54a3ef",
   "metadata": {},
   "source": [
    "<b>1. Climate-Smart Agriculture</b>\n",
    "\n",
    "-> Increase crop resilience to droughts, heat, and erratic weather\n",
    "\n",
    "-> Stabilize crop yields despite climate variability\n",
    "\n",
    "-> Promote sustainable farming practices for long-term soil and water health\n",
    "\n",
    "<b>2. Technology-Based Solutions</b>\n",
    "\n",
    "-> Provide accurate weather predictions and planting advice\n",
    "\n",
    "-> Improve decision-making for farmers using AI and data analytics\n",
    "\n",
    "-> Increase farm productivity through smarter planning\n",
    "\n",
    "-> Bridge the information gap between farmers and experts\n",
    "\n",
    "<b>3. Water Management Techniques</b>\n",
    "\n",
    "-> Ensure efficient use of water resources\n",
    "\n",
    "-> Reduce dependency on rainfall through irrigation and storage\n",
    "\n",
    "-> Prevent crop loss during dry spells or droughts\n",
    "\n",
    "<b>4. Farmer Education & Training</b>\n",
    "\n",
    "-> Build awareness about climate change impacts\n",
    "\n",
    "-> Empower farmers with knowledge to adapt and innovate\n",
    "\n",
    "-> Increase adoption of climate-resilient practices\n",
    "\n",
    "<b>5. Policy and Financial Support</b>\n",
    "\n",
    "-> Protect farmers from losses using insurance and financial aid\n",
    "\n",
    "-> Encourage investment in sustainable farming tools and techniques\n",
    "\n",
    "-> Support fair access to resources for smallholder farmers\n",
    "\n",
    "<b>6. Community-Based Approaches</b>\n",
    "\n",
    "-> Strengthen cooperation and resource-sharing among farmers\n",
    "\n",
    "-> Promote local problem-solving tailored to specific regions\n",
    "\n",
    "-> Build resilience at the community level through shared knowledge and tools\n",
    "\n"
   ]
  },
  {
   "cell_type": "markdown",
   "id": "66f07f1f",
   "metadata": {
    "vscode": {
     "languageId": "plaintext"
    }
   },
   "source": [
    "<div style=\"background-color: lightblue; color: white; padding: 10px; text-align: center;\">\n",
    "    <h1>_________________________________END________________________________\n",
    "<!--- Devashish Kumar | Tech Skills Trainer | CodroidHub Private Limited | AI/ML Consultant --->\n",
    "    </h1> </div>"
   ]
  },
  {
   "cell_type": "markdown",
   "id": "175623b4",
   "metadata": {
    "vscode": {
     "languageId": "plaintext"
    }
   },
   "source": [
    "<div style=\"background-color: #002147; color: #fff; padding: 30px; text-align: center;\">\n",
    "    <h1>THANK YOU!\n",
    "        <!--- Devashish Kumar | Tech Skills Trainer | CodroidHub Private Limited | AI/ML Consultant --->\n",
    "</h1> </div>"
   ]
  },
  {
   "cell_type": "code",
   "execution_count": null,
   "id": "57065f00",
   "metadata": {
    "vscode": {
     "languageId": "plaintext"
    }
   },
   "outputs": [],
   "source": []
  }
 ],
 "metadata": {
  "language_info": {
   "name": "python"
  }
 },
 "nbformat": 4,
 "nbformat_minor": 5
}
